{
  "nbformat": 4,
  "nbformat_minor": 0,
  "metadata": {
    "accelerator": "TPU",
    "colab": {
      "name": "Final Hybrid.ipynb",
      "provenance": [],
      "collapsed_sections": []
    },
    "kernelspec": {
      "display_name": "Python 3",
      "name": "python3"
    },
    "language_info": {
      "name": "python"
    }
  },
  "cells": [
    {
      "cell_type": "code",
      "metadata": {
        "id": "ddoIafey8ZpI"
      },
      "source": [
        "import numpy as np\n",
        "\n",
        "import pandas as pd\n",
        "from sklearn import datasets, svm, metrics\n",
        "import matplotlib.pyplot as plt\n",
        "\n",
        "\n",
        "#reading the dataset\n",
        "df=pd.read_csv(\"/content/drive/MyDrive/Thesis Thinngs/wesad_swell_comb_label.csv\")"
      ],
      "execution_count": null,
      "outputs": []
    },
    {
      "cell_type": "code",
      "metadata": {
        "colab": {
          "base_uri": "https://localhost:8080/"
        },
        "id": "2EtIAEv-vtEv",
        "outputId": "a6084032-6721-40c5-d56b-465120634620"
      },
      "source": [
        "df.info()"
      ],
      "execution_count": null,
      "outputs": [
        {
          "output_type": "stream",
          "name": "stdout",
          "text": [
            "<class 'pandas.core.frame.DataFrame'>\n",
            "RangeIndex: 527288 entries, 0 to 527287\n",
            "Data columns (total 64 columns):\n",
            " #   Column                    Non-Null Count   Dtype  \n",
            "---  ------                    --------------   -----  \n",
            " 0   MEAN_RR                   527288 non-null  float64\n",
            " 1   MEDIAN_RR                 527288 non-null  float64\n",
            " 2   SDRR                      527288 non-null  float64\n",
            " 3   RMSSD                     527288 non-null  float64\n",
            " 4   SDSD                      527288 non-null  float64\n",
            " 5   SDRR_RMSSD                527288 non-null  float64\n",
            " 6   HR                        527288 non-null  float64\n",
            " 7   pNN25                     527288 non-null  float64\n",
            " 8   pNN50                     527288 non-null  float64\n",
            " 9   SD1                       527288 non-null  float64\n",
            " 10  SD2                       527288 non-null  float64\n",
            " 11  KURT                      527288 non-null  float64\n",
            " 12  SKEW                      527288 non-null  float64\n",
            " 13  MEAN_REL_RR               527288 non-null  float64\n",
            " 14  MEDIAN_REL_RR             527288 non-null  float64\n",
            " 15  SDRR_REL_RR               527288 non-null  float64\n",
            " 16  RMSSD_REL_RR              527288 non-null  float64\n",
            " 17  SDSD_REL_RR               527288 non-null  float64\n",
            " 18  SDRR_RMSSD_REL_RR         527288 non-null  float64\n",
            " 19  KURT_REL_RR               527288 non-null  float64\n",
            " 20  SKEW_REL_RR               527288 non-null  float64\n",
            " 21  VLF                       527288 non-null  float64\n",
            " 22  VLF_PCT                   527288 non-null  float64\n",
            " 23  LF                        527288 non-null  float64\n",
            " 24  LF_PCT                    527288 non-null  float64\n",
            " 25  LF_NU                     527288 non-null  float64\n",
            " 26  HF                        527288 non-null  float64\n",
            " 27  HF_PCT                    527288 non-null  float64\n",
            " 28  HF_NU                     527288 non-null  float64\n",
            " 29  TP                        527288 non-null  float64\n",
            " 30  LF_HF                     527288 non-null  float64\n",
            " 31  HF_LF                     527288 non-null  float64\n",
            " 32  MEAN_RR_LOG               527288 non-null  float64\n",
            " 33  MEAN_RR_SQRT              527288 non-null  float64\n",
            " 34  TP_SQRT                   527288 non-null  float64\n",
            " 35  MEDIAN_REL_RR_LOG         527288 non-null  float64\n",
            " 36  RMSSD_REL_RR_LOG          527288 non-null  float64\n",
            " 37  SDSD_REL_RR_LOG           527288 non-null  float64\n",
            " 38  VLF_LOG                   527288 non-null  float64\n",
            " 39  LF_LOG                    527288 non-null  float64\n",
            " 40  HF_LOG                    527288 non-null  float64\n",
            " 41  TP_LOG                    527288 non-null  float64\n",
            " 42  LF_HF_LOG                 527288 non-null  float64\n",
            " 43  RMSSD_LOG                 527288 non-null  float64\n",
            " 44  SDRR_RMSSD_LOG            527288 non-null  float64\n",
            " 45  pNN25_LOG                 527288 non-null  float64\n",
            " 46  pNN50_LOG                 527288 non-null  float64\n",
            " 47  SD1_LOG                   527288 non-null  float64\n",
            " 48  KURT_YEO_JONSON           527288 non-null  float64\n",
            " 49  SKEW_YEO_JONSON           527288 non-null  float64\n",
            " 50  MEAN_REL_RR_YEO_JONSON    527288 non-null  float64\n",
            " 51  SKEW_REL_RR_YEO_JONSON    527288 non-null  float64\n",
            " 52  LF_BOXCOX                 527288 non-null  float64\n",
            " 53  HF_BOXCOX                 527288 non-null  float64\n",
            " 54  SD1_BOXCOX                527288 non-null  float64\n",
            " 55  KURT_SQUARE               527288 non-null  float64\n",
            " 56  HR_SQRT                   527288 non-null  float64\n",
            " 57  MEAN_RR_MEAN_MEAN_REL_RR  527288 non-null  float64\n",
            " 58  SD2_LF                    527288 non-null  float64\n",
            " 59  HR_LF                     527288 non-null  float64\n",
            " 60  HR_HF                     527288 non-null  float64\n",
            " 61  HF_VLF                    527288 non-null  float64\n",
            " 62  condition                 527288 non-null  object \n",
            " 63  condition_label           527288 non-null  object \n",
            "dtypes: float64(62), object(2)\n",
            "memory usage: 257.5+ MB\n"
          ]
        }
      ]
    },
    {
      "cell_type": "code",
      "metadata": {
        "colab": {
          "base_uri": "https://localhost:8080/",
          "height": 270
        },
        "id": "M1DG4lZCvtNl",
        "outputId": "187e964a-c919-4898-af7a-34ef680ab368"
      },
      "source": [
        "df.head()"
      ],
      "execution_count": null,
      "outputs": [
        {
          "output_type": "execute_result",
          "data": {
            "text/html": [
              "\n",
              "  <div id=\"df-f5c9a335-0262-4d6d-b197-4d2e76ece5c8\">\n",
              "    <div class=\"colab-df-container\">\n",
              "      <div>\n",
              "<style scoped>\n",
              "    .dataframe tbody tr th:only-of-type {\n",
              "        vertical-align: middle;\n",
              "    }\n",
              "\n",
              "    .dataframe tbody tr th {\n",
              "        vertical-align: top;\n",
              "    }\n",
              "\n",
              "    .dataframe thead th {\n",
              "        text-align: right;\n",
              "    }\n",
              "</style>\n",
              "<table border=\"1\" class=\"dataframe\">\n",
              "  <thead>\n",
              "    <tr style=\"text-align: right;\">\n",
              "      <th></th>\n",
              "      <th>MEAN_RR</th>\n",
              "      <th>MEDIAN_RR</th>\n",
              "      <th>SDRR</th>\n",
              "      <th>RMSSD</th>\n",
              "      <th>SDSD</th>\n",
              "      <th>SDRR_RMSSD</th>\n",
              "      <th>HR</th>\n",
              "      <th>pNN25</th>\n",
              "      <th>pNN50</th>\n",
              "      <th>SD1</th>\n",
              "      <th>SD2</th>\n",
              "      <th>KURT</th>\n",
              "      <th>SKEW</th>\n",
              "      <th>MEAN_REL_RR</th>\n",
              "      <th>MEDIAN_REL_RR</th>\n",
              "      <th>SDRR_REL_RR</th>\n",
              "      <th>RMSSD_REL_RR</th>\n",
              "      <th>SDSD_REL_RR</th>\n",
              "      <th>SDRR_RMSSD_REL_RR</th>\n",
              "      <th>KURT_REL_RR</th>\n",
              "      <th>SKEW_REL_RR</th>\n",
              "      <th>VLF</th>\n",
              "      <th>VLF_PCT</th>\n",
              "      <th>LF</th>\n",
              "      <th>LF_PCT</th>\n",
              "      <th>LF_NU</th>\n",
              "      <th>HF</th>\n",
              "      <th>HF_PCT</th>\n",
              "      <th>HF_NU</th>\n",
              "      <th>TP</th>\n",
              "      <th>LF_HF</th>\n",
              "      <th>HF_LF</th>\n",
              "      <th>MEAN_RR_LOG</th>\n",
              "      <th>MEAN_RR_SQRT</th>\n",
              "      <th>TP_SQRT</th>\n",
              "      <th>MEDIAN_REL_RR_LOG</th>\n",
              "      <th>RMSSD_REL_RR_LOG</th>\n",
              "      <th>SDSD_REL_RR_LOG</th>\n",
              "      <th>VLF_LOG</th>\n",
              "      <th>LF_LOG</th>\n",
              "      <th>HF_LOG</th>\n",
              "      <th>TP_LOG</th>\n",
              "      <th>LF_HF_LOG</th>\n",
              "      <th>RMSSD_LOG</th>\n",
              "      <th>SDRR_RMSSD_LOG</th>\n",
              "      <th>pNN25_LOG</th>\n",
              "      <th>pNN50_LOG</th>\n",
              "      <th>SD1_LOG</th>\n",
              "      <th>KURT_YEO_JONSON</th>\n",
              "      <th>SKEW_YEO_JONSON</th>\n",
              "      <th>MEAN_REL_RR_YEO_JONSON</th>\n",
              "      <th>SKEW_REL_RR_YEO_JONSON</th>\n",
              "      <th>LF_BOXCOX</th>\n",
              "      <th>HF_BOXCOX</th>\n",
              "      <th>SD1_BOXCOX</th>\n",
              "      <th>KURT_SQUARE</th>\n",
              "      <th>HR_SQRT</th>\n",
              "      <th>MEAN_RR_MEAN_MEAN_REL_RR</th>\n",
              "      <th>SD2_LF</th>\n",
              "      <th>HR_LF</th>\n",
              "      <th>HR_HF</th>\n",
              "      <th>HF_VLF</th>\n",
              "      <th>condition</th>\n",
              "      <th>condition_label</th>\n",
              "    </tr>\n",
              "  </thead>\n",
              "  <tbody>\n",
              "    <tr>\n",
              "      <th>0</th>\n",
              "      <td>1183.843150</td>\n",
              "      <td>1181.251800</td>\n",
              "      <td>365.254689</td>\n",
              "      <td>16.232314</td>\n",
              "      <td>16.228591</td>\n",
              "      <td>22.501702</td>\n",
              "      <td>58.411211</td>\n",
              "      <td>10.466667</td>\n",
              "      <td>1.400000</td>\n",
              "      <td>11.479176</td>\n",
              "      <td>516.420570</td>\n",
              "      <td>-0.373785</td>\n",
              "      <td>-0.385042</td>\n",
              "      <td>0.000489</td>\n",
              "      <td>-0.000682</td>\n",
              "      <td>0.020493</td>\n",
              "      <td>0.011213</td>\n",
              "      <td>0.011213</td>\n",
              "      <td>1.827570</td>\n",
              "      <td>-0.373785</td>\n",
              "      <td>-0.385042</td>\n",
              "      <td>6074.759991</td>\n",
              "      <td>93.166507</td>\n",
              "      <td>418.585262</td>\n",
              "      <td>6.419698</td>\n",
              "      <td>93.944607</td>\n",
              "      <td>26.980773</td>\n",
              "      <td>0.413795</td>\n",
              "      <td>6.055393</td>\n",
              "      <td>6520.326026</td>\n",
              "      <td>15.514206</td>\n",
              "      <td>0.064457</td>\n",
              "      <td>7.077366</td>\n",
              "      <td>34.407022</td>\n",
              "      <td>80.748536</td>\n",
              "      <td>-0.000683</td>\n",
              "      <td>0.011151</td>\n",
              "      <td>0.011151</td>\n",
              "      <td>8.712062</td>\n",
              "      <td>6.039267</td>\n",
              "      <td>3.331518</td>\n",
              "      <td>8.782833</td>\n",
              "      <td>2.804221</td>\n",
              "      <td>2.846786</td>\n",
              "      <td>3.157073</td>\n",
              "      <td>2.439444</td>\n",
              "      <td>0.875469</td>\n",
              "      <td>2.524061</td>\n",
              "      <td>-0.437762</td>\n",
              "      <td>-0.402175</td>\n",
              "      <td>0.000429</td>\n",
              "      <td>-0.402175</td>\n",
              "      <td>5.969075</td>\n",
              "      <td>6.047394</td>\n",
              "      <td>57.119810</td>\n",
              "      <td>0.139715</td>\n",
              "      <td>7.642723</td>\n",
              "      <td>2.419575e+06</td>\n",
              "      <td>1.233729</td>\n",
              "      <td>0.139544</td>\n",
              "      <td>2.164920</td>\n",
              "      <td>0.004441</td>\n",
              "      <td>stress</td>\n",
              "      <td>stress</td>\n",
              "    </tr>\n",
              "    <tr>\n",
              "      <th>1</th>\n",
              "      <td>1021.041857</td>\n",
              "      <td>1022.250750</td>\n",
              "      <td>100.521147</td>\n",
              "      <td>21.561202</td>\n",
              "      <td>21.561202</td>\n",
              "      <td>4.662131</td>\n",
              "      <td>59.350494</td>\n",
              "      <td>24.466667</td>\n",
              "      <td>2.000000</td>\n",
              "      <td>15.251160</td>\n",
              "      <td>141.337907</td>\n",
              "      <td>-0.380545</td>\n",
              "      <td>-0.046871</td>\n",
              "      <td>-0.000026</td>\n",
              "      <td>-0.002017</td>\n",
              "      <td>0.021379</td>\n",
              "      <td>0.009455</td>\n",
              "      <td>0.009455</td>\n",
              "      <td>2.261110</td>\n",
              "      <td>-0.380545</td>\n",
              "      <td>-0.046871</td>\n",
              "      <td>2635.166019</td>\n",
              "      <td>58.666097</td>\n",
              "      <td>1849.940776</td>\n",
              "      <td>41.184808</td>\n",
              "      <td>99.639291</td>\n",
              "      <td>6.697061</td>\n",
              "      <td>0.149095</td>\n",
              "      <td>0.360709</td>\n",
              "      <td>4491.803856</td>\n",
              "      <td>276.231752</td>\n",
              "      <td>0.003620</td>\n",
              "      <td>6.929558</td>\n",
              "      <td>31.953746</td>\n",
              "      <td>67.020921</td>\n",
              "      <td>-0.002019</td>\n",
              "      <td>0.009411</td>\n",
              "      <td>0.009411</td>\n",
              "      <td>7.877081</td>\n",
              "      <td>7.523449</td>\n",
              "      <td>2.040839</td>\n",
              "      <td>8.410232</td>\n",
              "      <td>5.624854</td>\n",
              "      <td>3.116232</td>\n",
              "      <td>1.733800</td>\n",
              "      <td>3.237370</td>\n",
              "      <td>1.098612</td>\n",
              "      <td>2.788164</td>\n",
              "      <td>-0.484715</td>\n",
              "      <td>-0.044256</td>\n",
              "      <td>-0.000026</td>\n",
              "      <td>-0.044256</td>\n",
              "      <td>17010.941850</td>\n",
              "      <td>2.029246</td>\n",
              "      <td>7757.321073</td>\n",
              "      <td>0.144814</td>\n",
              "      <td>7.703927</td>\n",
              "      <td>-3.929102e+07</td>\n",
              "      <td>0.076401</td>\n",
              "      <td>0.032082</td>\n",
              "      <td>8.862171</td>\n",
              "      <td>0.002541</td>\n",
              "      <td>no stress</td>\n",
              "      <td>no stress</td>\n",
              "    </tr>\n",
              "    <tr>\n",
              "      <th>2</th>\n",
              "      <td>820.137142</td>\n",
              "      <td>836.800665</td>\n",
              "      <td>107.879842</td>\n",
              "      <td>17.077352</td>\n",
              "      <td>17.076497</td>\n",
              "      <td>6.317130</td>\n",
              "      <td>74.687574</td>\n",
              "      <td>13.466667</td>\n",
              "      <td>0.600000</td>\n",
              "      <td>12.078936</td>\n",
              "      <td>152.086226</td>\n",
              "      <td>0.795182</td>\n",
              "      <td>-0.883129</td>\n",
              "      <td>-0.000236</td>\n",
              "      <td>-0.002134</td>\n",
              "      <td>0.021503</td>\n",
              "      <td>0.009040</td>\n",
              "      <td>0.009040</td>\n",
              "      <td>2.378754</td>\n",
              "      <td>0.795182</td>\n",
              "      <td>-0.883129</td>\n",
              "      <td>1432.340330</td>\n",
              "      <td>41.644429</td>\n",
              "      <td>1987.435700</td>\n",
              "      <td>57.783492</td>\n",
              "      <td>99.019666</td>\n",
              "      <td>19.676393</td>\n",
              "      <td>0.572079</td>\n",
              "      <td>0.980334</td>\n",
              "      <td>3439.452423</td>\n",
              "      <td>101.006099</td>\n",
              "      <td>0.009900</td>\n",
              "      <td>6.710690</td>\n",
              "      <td>28.638037</td>\n",
              "      <td>58.646845</td>\n",
              "      <td>-0.002136</td>\n",
              "      <td>0.008999</td>\n",
              "      <td>0.008999</td>\n",
              "      <td>7.267763</td>\n",
              "      <td>7.595104</td>\n",
              "      <td>3.028993</td>\n",
              "      <td>8.143358</td>\n",
              "      <td>4.625033</td>\n",
              "      <td>2.894660</td>\n",
              "      <td>1.990218</td>\n",
              "      <td>2.671847</td>\n",
              "      <td>0.470004</td>\n",
              "      <td>2.571003</td>\n",
              "      <td>0.458363</td>\n",
              "      <td>-0.549709</td>\n",
              "      <td>-0.000213</td>\n",
              "      <td>-0.549709</td>\n",
              "      <td>0.677698</td>\n",
              "      <td>1.197767</td>\n",
              "      <td>0.629808</td>\n",
              "      <td>0.632315</td>\n",
              "      <td>8.642197</td>\n",
              "      <td>-3.469434e+06</td>\n",
              "      <td>0.076524</td>\n",
              "      <td>0.037580</td>\n",
              "      <td>3.795796</td>\n",
              "      <td>0.013737</td>\n",
              "      <td>stress</td>\n",
              "      <td>stress</td>\n",
              "    </tr>\n",
              "    <tr>\n",
              "      <th>3</th>\n",
              "      <td>716.399934</td>\n",
              "      <td>745.647205</td>\n",
              "      <td>127.779239</td>\n",
              "      <td>15.836261</td>\n",
              "      <td>15.835732</td>\n",
              "      <td>8.068776</td>\n",
              "      <td>86.920960</td>\n",
              "      <td>10.466667</td>\n",
              "      <td>0.600000</td>\n",
              "      <td>11.201290</td>\n",
              "      <td>180.359637</td>\n",
              "      <td>0.684130</td>\n",
              "      <td>-0.322346</td>\n",
              "      <td>-0.000229</td>\n",
              "      <td>-0.000589</td>\n",
              "      <td>0.022966</td>\n",
              "      <td>0.012660</td>\n",
              "      <td>0.012660</td>\n",
              "      <td>1.814036</td>\n",
              "      <td>0.684130</td>\n",
              "      <td>-0.322346</td>\n",
              "      <td>4797.649891</td>\n",
              "      <td>82.403871</td>\n",
              "      <td>949.060452</td>\n",
              "      <td>16.300951</td>\n",
              "      <td>92.639413</td>\n",
              "      <td>75.406806</td>\n",
              "      <td>1.295178</td>\n",
              "      <td>7.360587</td>\n",
              "      <td>5822.117149</td>\n",
              "      <td>12.585873</td>\n",
              "      <td>0.079454</td>\n",
              "      <td>6.575633</td>\n",
              "      <td>26.765648</td>\n",
              "      <td>76.302799</td>\n",
              "      <td>-0.000589</td>\n",
              "      <td>0.012580</td>\n",
              "      <td>0.012580</td>\n",
              "      <td>8.476090</td>\n",
              "      <td>6.856526</td>\n",
              "      <td>4.336072</td>\n",
              "      <td>8.669591</td>\n",
              "      <td>2.609030</td>\n",
              "      <td>2.823535</td>\n",
              "      <td>2.204837</td>\n",
              "      <td>2.439444</td>\n",
              "      <td>0.470004</td>\n",
              "      <td>2.501542</td>\n",
              "      <td>0.501366</td>\n",
              "      <td>-0.339236</td>\n",
              "      <td>-0.000231</td>\n",
              "      <td>-0.339236</td>\n",
              "      <td>1.329204</td>\n",
              "      <td>2.163583</td>\n",
              "      <td>2.352294</td>\n",
              "      <td>0.468034</td>\n",
              "      <td>9.323141</td>\n",
              "      <td>-3.132061e+06</td>\n",
              "      <td>0.190040</td>\n",
              "      <td>0.091586</td>\n",
              "      <td>1.152694</td>\n",
              "      <td>0.015717</td>\n",
              "      <td>no stress</td>\n",
              "      <td>no stress</td>\n",
              "    </tr>\n",
              "    <tr>\n",
              "      <th>4</th>\n",
              "      <td>977.406611</td>\n",
              "      <td>1041.002800</td>\n",
              "      <td>361.240628</td>\n",
              "      <td>14.531204</td>\n",
              "      <td>14.521966</td>\n",
              "      <td>24.859649</td>\n",
              "      <td>73.062657</td>\n",
              "      <td>7.000000</td>\n",
              "      <td>1.333333</td>\n",
              "      <td>10.272008</td>\n",
              "      <td>510.768116</td>\n",
              "      <td>-1.126756</td>\n",
              "      <td>-0.058487</td>\n",
              "      <td>0.000637</td>\n",
              "      <td>0.000237</td>\n",
              "      <td>0.020838</td>\n",
              "      <td>0.012575</td>\n",
              "      <td>0.012575</td>\n",
              "      <td>1.657112</td>\n",
              "      <td>-1.126756</td>\n",
              "      <td>-0.058487</td>\n",
              "      <td>5728.252158</td>\n",
              "      <td>92.169826</td>\n",
              "      <td>457.885200</td>\n",
              "      <td>7.367553</td>\n",
              "      <td>94.091814</td>\n",
              "      <td>28.751397</td>\n",
              "      <td>0.462621</td>\n",
              "      <td>5.908186</td>\n",
              "      <td>6214.888755</td>\n",
              "      <td>15.925668</td>\n",
              "      <td>0.062792</td>\n",
              "      <td>6.885925</td>\n",
              "      <td>31.263503</td>\n",
              "      <td>78.834566</td>\n",
              "      <td>0.000237</td>\n",
              "      <td>0.012497</td>\n",
              "      <td>0.012497</td>\n",
              "      <td>8.653340</td>\n",
              "      <td>6.128800</td>\n",
              "      <td>3.392876</td>\n",
              "      <td>8.734864</td>\n",
              "      <td>2.828831</td>\n",
              "      <td>2.742851</td>\n",
              "      <td>3.252684</td>\n",
              "      <td>2.079442</td>\n",
              "      <td>0.847298</td>\n",
              "      <td>2.422322</td>\n",
              "      <td>-1.524474</td>\n",
              "      <td>-0.059619</td>\n",
              "      <td>0.000618</td>\n",
              "      <td>-0.059619</td>\n",
              "      <td>13.101780</td>\n",
              "      <td>6.459329</td>\n",
              "      <td>2.467751</td>\n",
              "      <td>1.269579</td>\n",
              "      <td>8.547670</td>\n",
              "      <td>1.535559e+06</td>\n",
              "      <td>1.115494</td>\n",
              "      <td>0.159565</td>\n",
              "      <td>2.541186</td>\n",
              "      <td>0.005019</td>\n",
              "      <td>stress</td>\n",
              "      <td>stress</td>\n",
              "    </tr>\n",
              "  </tbody>\n",
              "</table>\n",
              "</div>\n",
              "      <button class=\"colab-df-convert\" onclick=\"convertToInteractive('df-f5c9a335-0262-4d6d-b197-4d2e76ece5c8')\"\n",
              "              title=\"Convert this dataframe to an interactive table.\"\n",
              "              style=\"display:none;\">\n",
              "        \n",
              "  <svg xmlns=\"http://www.w3.org/2000/svg\" height=\"24px\"viewBox=\"0 0 24 24\"\n",
              "       width=\"24px\">\n",
              "    <path d=\"M0 0h24v24H0V0z\" fill=\"none\"/>\n",
              "    <path d=\"M18.56 5.44l.94 2.06.94-2.06 2.06-.94-2.06-.94-.94-2.06-.94 2.06-2.06.94zm-11 1L8.5 8.5l.94-2.06 2.06-.94-2.06-.94L8.5 2.5l-.94 2.06-2.06.94zm10 10l.94 2.06.94-2.06 2.06-.94-2.06-.94-.94-2.06-.94 2.06-2.06.94z\"/><path d=\"M17.41 7.96l-1.37-1.37c-.4-.4-.92-.59-1.43-.59-.52 0-1.04.2-1.43.59L10.3 9.45l-7.72 7.72c-.78.78-.78 2.05 0 2.83L4 21.41c.39.39.9.59 1.41.59.51 0 1.02-.2 1.41-.59l7.78-7.78 2.81-2.81c.8-.78.8-2.07 0-2.86zM5.41 20L4 18.59l7.72-7.72 1.47 1.35L5.41 20z\"/>\n",
              "  </svg>\n",
              "      </button>\n",
              "      \n",
              "  <style>\n",
              "    .colab-df-container {\n",
              "      display:flex;\n",
              "      flex-wrap:wrap;\n",
              "      gap: 12px;\n",
              "    }\n",
              "\n",
              "    .colab-df-convert {\n",
              "      background-color: #E8F0FE;\n",
              "      border: none;\n",
              "      border-radius: 50%;\n",
              "      cursor: pointer;\n",
              "      display: none;\n",
              "      fill: #1967D2;\n",
              "      height: 32px;\n",
              "      padding: 0 0 0 0;\n",
              "      width: 32px;\n",
              "    }\n",
              "\n",
              "    .colab-df-convert:hover {\n",
              "      background-color: #E2EBFA;\n",
              "      box-shadow: 0px 1px 2px rgba(60, 64, 67, 0.3), 0px 1px 3px 1px rgba(60, 64, 67, 0.15);\n",
              "      fill: #174EA6;\n",
              "    }\n",
              "\n",
              "    [theme=dark] .colab-df-convert {\n",
              "      background-color: #3B4455;\n",
              "      fill: #D2E3FC;\n",
              "    }\n",
              "\n",
              "    [theme=dark] .colab-df-convert:hover {\n",
              "      background-color: #434B5C;\n",
              "      box-shadow: 0px 1px 3px 1px rgba(0, 0, 0, 0.15);\n",
              "      filter: drop-shadow(0px 1px 2px rgba(0, 0, 0, 0.3));\n",
              "      fill: #FFFFFF;\n",
              "    }\n",
              "  </style>\n",
              "\n",
              "      <script>\n",
              "        const buttonEl =\n",
              "          document.querySelector('#df-f5c9a335-0262-4d6d-b197-4d2e76ece5c8 button.colab-df-convert');\n",
              "        buttonEl.style.display =\n",
              "          google.colab.kernel.accessAllowed ? 'block' : 'none';\n",
              "\n",
              "        async function convertToInteractive(key) {\n",
              "          const element = document.querySelector('#df-f5c9a335-0262-4d6d-b197-4d2e76ece5c8');\n",
              "          const dataTable =\n",
              "            await google.colab.kernel.invokeFunction('convertToInteractive',\n",
              "                                                     [key], {});\n",
              "          if (!dataTable) return;\n",
              "\n",
              "          const docLinkHtml = 'Like what you see? Visit the ' +\n",
              "            '<a target=\"_blank\" href=https://colab.research.google.com/notebooks/data_table.ipynb>data table notebook</a>'\n",
              "            + ' to learn more about interactive tables.';\n",
              "          element.innerHTML = '';\n",
              "          dataTable['output_type'] = 'display_data';\n",
              "          await google.colab.output.renderOutput(dataTable, element);\n",
              "          const docLink = document.createElement('div');\n",
              "          docLink.innerHTML = docLinkHtml;\n",
              "          element.appendChild(docLink);\n",
              "        }\n",
              "      </script>\n",
              "    </div>\n",
              "  </div>\n",
              "  "
            ],
            "text/plain": [
              "       MEAN_RR    MEDIAN_RR        SDRR  ...    HF_VLF  condition  condition_label\n",
              "0  1183.843150  1181.251800  365.254689  ...  0.004441     stress           stress\n",
              "1  1021.041857  1022.250750  100.521147  ...  0.002541  no stress        no stress\n",
              "2   820.137142   836.800665  107.879842  ...  0.013737     stress           stress\n",
              "3   716.399934   745.647205  127.779239  ...  0.015717  no stress        no stress\n",
              "4   977.406611  1041.002800  361.240628  ...  0.005019     stress           stress\n",
              "\n",
              "[5 rows x 64 columns]"
            ]
          },
          "metadata": {},
          "execution_count": 3
        }
      ]
    },
    {
      "cell_type": "code",
      "metadata": {
        "colab": {
          "base_uri": "https://localhost:8080/",
          "height": 270
        },
        "id": "PxHexuGuvtUs",
        "outputId": "2c95b259-3f3c-48f6-9c83-49b36b0836bd"
      },
      "source": [
        "# Import label encoder \n",
        "from sklearn import preprocessing\n",
        "# label_encoder object knows how to understand word labels. \n",
        "label_encoder = preprocessing.LabelEncoder()\n",
        "# Encode labels in column 'Country'. \n",
        "df['condition_label']= label_encoder.fit_transform(df['condition_label']) \n",
        "df.head()"
      ],
      "execution_count": null,
      "outputs": [
        {
          "output_type": "execute_result",
          "data": {
            "text/html": [
              "\n",
              "  <div id=\"df-47cceebb-49fe-43e7-840f-020a62d7648d\">\n",
              "    <div class=\"colab-df-container\">\n",
              "      <div>\n",
              "<style scoped>\n",
              "    .dataframe tbody tr th:only-of-type {\n",
              "        vertical-align: middle;\n",
              "    }\n",
              "\n",
              "    .dataframe tbody tr th {\n",
              "        vertical-align: top;\n",
              "    }\n",
              "\n",
              "    .dataframe thead th {\n",
              "        text-align: right;\n",
              "    }\n",
              "</style>\n",
              "<table border=\"1\" class=\"dataframe\">\n",
              "  <thead>\n",
              "    <tr style=\"text-align: right;\">\n",
              "      <th></th>\n",
              "      <th>MEAN_RR</th>\n",
              "      <th>MEDIAN_RR</th>\n",
              "      <th>SDRR</th>\n",
              "      <th>RMSSD</th>\n",
              "      <th>SDSD</th>\n",
              "      <th>SDRR_RMSSD</th>\n",
              "      <th>HR</th>\n",
              "      <th>pNN25</th>\n",
              "      <th>pNN50</th>\n",
              "      <th>SD1</th>\n",
              "      <th>SD2</th>\n",
              "      <th>KURT</th>\n",
              "      <th>SKEW</th>\n",
              "      <th>MEAN_REL_RR</th>\n",
              "      <th>MEDIAN_REL_RR</th>\n",
              "      <th>SDRR_REL_RR</th>\n",
              "      <th>RMSSD_REL_RR</th>\n",
              "      <th>SDSD_REL_RR</th>\n",
              "      <th>SDRR_RMSSD_REL_RR</th>\n",
              "      <th>KURT_REL_RR</th>\n",
              "      <th>SKEW_REL_RR</th>\n",
              "      <th>VLF</th>\n",
              "      <th>VLF_PCT</th>\n",
              "      <th>LF</th>\n",
              "      <th>LF_PCT</th>\n",
              "      <th>LF_NU</th>\n",
              "      <th>HF</th>\n",
              "      <th>HF_PCT</th>\n",
              "      <th>HF_NU</th>\n",
              "      <th>TP</th>\n",
              "      <th>LF_HF</th>\n",
              "      <th>HF_LF</th>\n",
              "      <th>MEAN_RR_LOG</th>\n",
              "      <th>MEAN_RR_SQRT</th>\n",
              "      <th>TP_SQRT</th>\n",
              "      <th>MEDIAN_REL_RR_LOG</th>\n",
              "      <th>RMSSD_REL_RR_LOG</th>\n",
              "      <th>SDSD_REL_RR_LOG</th>\n",
              "      <th>VLF_LOG</th>\n",
              "      <th>LF_LOG</th>\n",
              "      <th>HF_LOG</th>\n",
              "      <th>TP_LOG</th>\n",
              "      <th>LF_HF_LOG</th>\n",
              "      <th>RMSSD_LOG</th>\n",
              "      <th>SDRR_RMSSD_LOG</th>\n",
              "      <th>pNN25_LOG</th>\n",
              "      <th>pNN50_LOG</th>\n",
              "      <th>SD1_LOG</th>\n",
              "      <th>KURT_YEO_JONSON</th>\n",
              "      <th>SKEW_YEO_JONSON</th>\n",
              "      <th>MEAN_REL_RR_YEO_JONSON</th>\n",
              "      <th>SKEW_REL_RR_YEO_JONSON</th>\n",
              "      <th>LF_BOXCOX</th>\n",
              "      <th>HF_BOXCOX</th>\n",
              "      <th>SD1_BOXCOX</th>\n",
              "      <th>KURT_SQUARE</th>\n",
              "      <th>HR_SQRT</th>\n",
              "      <th>MEAN_RR_MEAN_MEAN_REL_RR</th>\n",
              "      <th>SD2_LF</th>\n",
              "      <th>HR_LF</th>\n",
              "      <th>HR_HF</th>\n",
              "      <th>HF_VLF</th>\n",
              "      <th>condition</th>\n",
              "      <th>condition_label</th>\n",
              "    </tr>\n",
              "  </thead>\n",
              "  <tbody>\n",
              "    <tr>\n",
              "      <th>0</th>\n",
              "      <td>1183.843150</td>\n",
              "      <td>1181.251800</td>\n",
              "      <td>365.254689</td>\n",
              "      <td>16.232314</td>\n",
              "      <td>16.228591</td>\n",
              "      <td>22.501702</td>\n",
              "      <td>58.411211</td>\n",
              "      <td>10.466667</td>\n",
              "      <td>1.400000</td>\n",
              "      <td>11.479176</td>\n",
              "      <td>516.420570</td>\n",
              "      <td>-0.373785</td>\n",
              "      <td>-0.385042</td>\n",
              "      <td>0.000489</td>\n",
              "      <td>-0.000682</td>\n",
              "      <td>0.020493</td>\n",
              "      <td>0.011213</td>\n",
              "      <td>0.011213</td>\n",
              "      <td>1.827570</td>\n",
              "      <td>-0.373785</td>\n",
              "      <td>-0.385042</td>\n",
              "      <td>6074.759991</td>\n",
              "      <td>93.166507</td>\n",
              "      <td>418.585262</td>\n",
              "      <td>6.419698</td>\n",
              "      <td>93.944607</td>\n",
              "      <td>26.980773</td>\n",
              "      <td>0.413795</td>\n",
              "      <td>6.055393</td>\n",
              "      <td>6520.326026</td>\n",
              "      <td>15.514206</td>\n",
              "      <td>0.064457</td>\n",
              "      <td>7.077366</td>\n",
              "      <td>34.407022</td>\n",
              "      <td>80.748536</td>\n",
              "      <td>-0.000683</td>\n",
              "      <td>0.011151</td>\n",
              "      <td>0.011151</td>\n",
              "      <td>8.712062</td>\n",
              "      <td>6.039267</td>\n",
              "      <td>3.331518</td>\n",
              "      <td>8.782833</td>\n",
              "      <td>2.804221</td>\n",
              "      <td>2.846786</td>\n",
              "      <td>3.157073</td>\n",
              "      <td>2.439444</td>\n",
              "      <td>0.875469</td>\n",
              "      <td>2.524061</td>\n",
              "      <td>-0.437762</td>\n",
              "      <td>-0.402175</td>\n",
              "      <td>0.000429</td>\n",
              "      <td>-0.402175</td>\n",
              "      <td>5.969075</td>\n",
              "      <td>6.047394</td>\n",
              "      <td>57.119810</td>\n",
              "      <td>0.139715</td>\n",
              "      <td>7.642723</td>\n",
              "      <td>2.419575e+06</td>\n",
              "      <td>1.233729</td>\n",
              "      <td>0.139544</td>\n",
              "      <td>2.164920</td>\n",
              "      <td>0.004441</td>\n",
              "      <td>stress</td>\n",
              "      <td>1</td>\n",
              "    </tr>\n",
              "    <tr>\n",
              "      <th>1</th>\n",
              "      <td>1021.041857</td>\n",
              "      <td>1022.250750</td>\n",
              "      <td>100.521147</td>\n",
              "      <td>21.561202</td>\n",
              "      <td>21.561202</td>\n",
              "      <td>4.662131</td>\n",
              "      <td>59.350494</td>\n",
              "      <td>24.466667</td>\n",
              "      <td>2.000000</td>\n",
              "      <td>15.251160</td>\n",
              "      <td>141.337907</td>\n",
              "      <td>-0.380545</td>\n",
              "      <td>-0.046871</td>\n",
              "      <td>-0.000026</td>\n",
              "      <td>-0.002017</td>\n",
              "      <td>0.021379</td>\n",
              "      <td>0.009455</td>\n",
              "      <td>0.009455</td>\n",
              "      <td>2.261110</td>\n",
              "      <td>-0.380545</td>\n",
              "      <td>-0.046871</td>\n",
              "      <td>2635.166019</td>\n",
              "      <td>58.666097</td>\n",
              "      <td>1849.940776</td>\n",
              "      <td>41.184808</td>\n",
              "      <td>99.639291</td>\n",
              "      <td>6.697061</td>\n",
              "      <td>0.149095</td>\n",
              "      <td>0.360709</td>\n",
              "      <td>4491.803856</td>\n",
              "      <td>276.231752</td>\n",
              "      <td>0.003620</td>\n",
              "      <td>6.929558</td>\n",
              "      <td>31.953746</td>\n",
              "      <td>67.020921</td>\n",
              "      <td>-0.002019</td>\n",
              "      <td>0.009411</td>\n",
              "      <td>0.009411</td>\n",
              "      <td>7.877081</td>\n",
              "      <td>7.523449</td>\n",
              "      <td>2.040839</td>\n",
              "      <td>8.410232</td>\n",
              "      <td>5.624854</td>\n",
              "      <td>3.116232</td>\n",
              "      <td>1.733800</td>\n",
              "      <td>3.237370</td>\n",
              "      <td>1.098612</td>\n",
              "      <td>2.788164</td>\n",
              "      <td>-0.484715</td>\n",
              "      <td>-0.044256</td>\n",
              "      <td>-0.000026</td>\n",
              "      <td>-0.044256</td>\n",
              "      <td>17010.941850</td>\n",
              "      <td>2.029246</td>\n",
              "      <td>7757.321073</td>\n",
              "      <td>0.144814</td>\n",
              "      <td>7.703927</td>\n",
              "      <td>-3.929102e+07</td>\n",
              "      <td>0.076401</td>\n",
              "      <td>0.032082</td>\n",
              "      <td>8.862171</td>\n",
              "      <td>0.002541</td>\n",
              "      <td>no stress</td>\n",
              "      <td>0</td>\n",
              "    </tr>\n",
              "    <tr>\n",
              "      <th>2</th>\n",
              "      <td>820.137142</td>\n",
              "      <td>836.800665</td>\n",
              "      <td>107.879842</td>\n",
              "      <td>17.077352</td>\n",
              "      <td>17.076497</td>\n",
              "      <td>6.317130</td>\n",
              "      <td>74.687574</td>\n",
              "      <td>13.466667</td>\n",
              "      <td>0.600000</td>\n",
              "      <td>12.078936</td>\n",
              "      <td>152.086226</td>\n",
              "      <td>0.795182</td>\n",
              "      <td>-0.883129</td>\n",
              "      <td>-0.000236</td>\n",
              "      <td>-0.002134</td>\n",
              "      <td>0.021503</td>\n",
              "      <td>0.009040</td>\n",
              "      <td>0.009040</td>\n",
              "      <td>2.378754</td>\n",
              "      <td>0.795182</td>\n",
              "      <td>-0.883129</td>\n",
              "      <td>1432.340330</td>\n",
              "      <td>41.644429</td>\n",
              "      <td>1987.435700</td>\n",
              "      <td>57.783492</td>\n",
              "      <td>99.019666</td>\n",
              "      <td>19.676393</td>\n",
              "      <td>0.572079</td>\n",
              "      <td>0.980334</td>\n",
              "      <td>3439.452423</td>\n",
              "      <td>101.006099</td>\n",
              "      <td>0.009900</td>\n",
              "      <td>6.710690</td>\n",
              "      <td>28.638037</td>\n",
              "      <td>58.646845</td>\n",
              "      <td>-0.002136</td>\n",
              "      <td>0.008999</td>\n",
              "      <td>0.008999</td>\n",
              "      <td>7.267763</td>\n",
              "      <td>7.595104</td>\n",
              "      <td>3.028993</td>\n",
              "      <td>8.143358</td>\n",
              "      <td>4.625033</td>\n",
              "      <td>2.894660</td>\n",
              "      <td>1.990218</td>\n",
              "      <td>2.671847</td>\n",
              "      <td>0.470004</td>\n",
              "      <td>2.571003</td>\n",
              "      <td>0.458363</td>\n",
              "      <td>-0.549709</td>\n",
              "      <td>-0.000213</td>\n",
              "      <td>-0.549709</td>\n",
              "      <td>0.677698</td>\n",
              "      <td>1.197767</td>\n",
              "      <td>0.629808</td>\n",
              "      <td>0.632315</td>\n",
              "      <td>8.642197</td>\n",
              "      <td>-3.469434e+06</td>\n",
              "      <td>0.076524</td>\n",
              "      <td>0.037580</td>\n",
              "      <td>3.795796</td>\n",
              "      <td>0.013737</td>\n",
              "      <td>stress</td>\n",
              "      <td>1</td>\n",
              "    </tr>\n",
              "    <tr>\n",
              "      <th>3</th>\n",
              "      <td>716.399934</td>\n",
              "      <td>745.647205</td>\n",
              "      <td>127.779239</td>\n",
              "      <td>15.836261</td>\n",
              "      <td>15.835732</td>\n",
              "      <td>8.068776</td>\n",
              "      <td>86.920960</td>\n",
              "      <td>10.466667</td>\n",
              "      <td>0.600000</td>\n",
              "      <td>11.201290</td>\n",
              "      <td>180.359637</td>\n",
              "      <td>0.684130</td>\n",
              "      <td>-0.322346</td>\n",
              "      <td>-0.000229</td>\n",
              "      <td>-0.000589</td>\n",
              "      <td>0.022966</td>\n",
              "      <td>0.012660</td>\n",
              "      <td>0.012660</td>\n",
              "      <td>1.814036</td>\n",
              "      <td>0.684130</td>\n",
              "      <td>-0.322346</td>\n",
              "      <td>4797.649891</td>\n",
              "      <td>82.403871</td>\n",
              "      <td>949.060452</td>\n",
              "      <td>16.300951</td>\n",
              "      <td>92.639413</td>\n",
              "      <td>75.406806</td>\n",
              "      <td>1.295178</td>\n",
              "      <td>7.360587</td>\n",
              "      <td>5822.117149</td>\n",
              "      <td>12.585873</td>\n",
              "      <td>0.079454</td>\n",
              "      <td>6.575633</td>\n",
              "      <td>26.765648</td>\n",
              "      <td>76.302799</td>\n",
              "      <td>-0.000589</td>\n",
              "      <td>0.012580</td>\n",
              "      <td>0.012580</td>\n",
              "      <td>8.476090</td>\n",
              "      <td>6.856526</td>\n",
              "      <td>4.336072</td>\n",
              "      <td>8.669591</td>\n",
              "      <td>2.609030</td>\n",
              "      <td>2.823535</td>\n",
              "      <td>2.204837</td>\n",
              "      <td>2.439444</td>\n",
              "      <td>0.470004</td>\n",
              "      <td>2.501542</td>\n",
              "      <td>0.501366</td>\n",
              "      <td>-0.339236</td>\n",
              "      <td>-0.000231</td>\n",
              "      <td>-0.339236</td>\n",
              "      <td>1.329204</td>\n",
              "      <td>2.163583</td>\n",
              "      <td>2.352294</td>\n",
              "      <td>0.468034</td>\n",
              "      <td>9.323141</td>\n",
              "      <td>-3.132061e+06</td>\n",
              "      <td>0.190040</td>\n",
              "      <td>0.091586</td>\n",
              "      <td>1.152694</td>\n",
              "      <td>0.015717</td>\n",
              "      <td>no stress</td>\n",
              "      <td>0</td>\n",
              "    </tr>\n",
              "    <tr>\n",
              "      <th>4</th>\n",
              "      <td>977.406611</td>\n",
              "      <td>1041.002800</td>\n",
              "      <td>361.240628</td>\n",
              "      <td>14.531204</td>\n",
              "      <td>14.521966</td>\n",
              "      <td>24.859649</td>\n",
              "      <td>73.062657</td>\n",
              "      <td>7.000000</td>\n",
              "      <td>1.333333</td>\n",
              "      <td>10.272008</td>\n",
              "      <td>510.768116</td>\n",
              "      <td>-1.126756</td>\n",
              "      <td>-0.058487</td>\n",
              "      <td>0.000637</td>\n",
              "      <td>0.000237</td>\n",
              "      <td>0.020838</td>\n",
              "      <td>0.012575</td>\n",
              "      <td>0.012575</td>\n",
              "      <td>1.657112</td>\n",
              "      <td>-1.126756</td>\n",
              "      <td>-0.058487</td>\n",
              "      <td>5728.252158</td>\n",
              "      <td>92.169826</td>\n",
              "      <td>457.885200</td>\n",
              "      <td>7.367553</td>\n",
              "      <td>94.091814</td>\n",
              "      <td>28.751397</td>\n",
              "      <td>0.462621</td>\n",
              "      <td>5.908186</td>\n",
              "      <td>6214.888755</td>\n",
              "      <td>15.925668</td>\n",
              "      <td>0.062792</td>\n",
              "      <td>6.885925</td>\n",
              "      <td>31.263503</td>\n",
              "      <td>78.834566</td>\n",
              "      <td>0.000237</td>\n",
              "      <td>0.012497</td>\n",
              "      <td>0.012497</td>\n",
              "      <td>8.653340</td>\n",
              "      <td>6.128800</td>\n",
              "      <td>3.392876</td>\n",
              "      <td>8.734864</td>\n",
              "      <td>2.828831</td>\n",
              "      <td>2.742851</td>\n",
              "      <td>3.252684</td>\n",
              "      <td>2.079442</td>\n",
              "      <td>0.847298</td>\n",
              "      <td>2.422322</td>\n",
              "      <td>-1.524474</td>\n",
              "      <td>-0.059619</td>\n",
              "      <td>0.000618</td>\n",
              "      <td>-0.059619</td>\n",
              "      <td>13.101780</td>\n",
              "      <td>6.459329</td>\n",
              "      <td>2.467751</td>\n",
              "      <td>1.269579</td>\n",
              "      <td>8.547670</td>\n",
              "      <td>1.535559e+06</td>\n",
              "      <td>1.115494</td>\n",
              "      <td>0.159565</td>\n",
              "      <td>2.541186</td>\n",
              "      <td>0.005019</td>\n",
              "      <td>stress</td>\n",
              "      <td>1</td>\n",
              "    </tr>\n",
              "  </tbody>\n",
              "</table>\n",
              "</div>\n",
              "      <button class=\"colab-df-convert\" onclick=\"convertToInteractive('df-47cceebb-49fe-43e7-840f-020a62d7648d')\"\n",
              "              title=\"Convert this dataframe to an interactive table.\"\n",
              "              style=\"display:none;\">\n",
              "        \n",
              "  <svg xmlns=\"http://www.w3.org/2000/svg\" height=\"24px\"viewBox=\"0 0 24 24\"\n",
              "       width=\"24px\">\n",
              "    <path d=\"M0 0h24v24H0V0z\" fill=\"none\"/>\n",
              "    <path d=\"M18.56 5.44l.94 2.06.94-2.06 2.06-.94-2.06-.94-.94-2.06-.94 2.06-2.06.94zm-11 1L8.5 8.5l.94-2.06 2.06-.94-2.06-.94L8.5 2.5l-.94 2.06-2.06.94zm10 10l.94 2.06.94-2.06 2.06-.94-2.06-.94-.94-2.06-.94 2.06-2.06.94z\"/><path d=\"M17.41 7.96l-1.37-1.37c-.4-.4-.92-.59-1.43-.59-.52 0-1.04.2-1.43.59L10.3 9.45l-7.72 7.72c-.78.78-.78 2.05 0 2.83L4 21.41c.39.39.9.59 1.41.59.51 0 1.02-.2 1.41-.59l7.78-7.78 2.81-2.81c.8-.78.8-2.07 0-2.86zM5.41 20L4 18.59l7.72-7.72 1.47 1.35L5.41 20z\"/>\n",
              "  </svg>\n",
              "      </button>\n",
              "      \n",
              "  <style>\n",
              "    .colab-df-container {\n",
              "      display:flex;\n",
              "      flex-wrap:wrap;\n",
              "      gap: 12px;\n",
              "    }\n",
              "\n",
              "    .colab-df-convert {\n",
              "      background-color: #E8F0FE;\n",
              "      border: none;\n",
              "      border-radius: 50%;\n",
              "      cursor: pointer;\n",
              "      display: none;\n",
              "      fill: #1967D2;\n",
              "      height: 32px;\n",
              "      padding: 0 0 0 0;\n",
              "      width: 32px;\n",
              "    }\n",
              "\n",
              "    .colab-df-convert:hover {\n",
              "      background-color: #E2EBFA;\n",
              "      box-shadow: 0px 1px 2px rgba(60, 64, 67, 0.3), 0px 1px 3px 1px rgba(60, 64, 67, 0.15);\n",
              "      fill: #174EA6;\n",
              "    }\n",
              "\n",
              "    [theme=dark] .colab-df-convert {\n",
              "      background-color: #3B4455;\n",
              "      fill: #D2E3FC;\n",
              "    }\n",
              "\n",
              "    [theme=dark] .colab-df-convert:hover {\n",
              "      background-color: #434B5C;\n",
              "      box-shadow: 0px 1px 3px 1px rgba(0, 0, 0, 0.15);\n",
              "      filter: drop-shadow(0px 1px 2px rgba(0, 0, 0, 0.3));\n",
              "      fill: #FFFFFF;\n",
              "    }\n",
              "  </style>\n",
              "\n",
              "      <script>\n",
              "        const buttonEl =\n",
              "          document.querySelector('#df-47cceebb-49fe-43e7-840f-020a62d7648d button.colab-df-convert');\n",
              "        buttonEl.style.display =\n",
              "          google.colab.kernel.accessAllowed ? 'block' : 'none';\n",
              "\n",
              "        async function convertToInteractive(key) {\n",
              "          const element = document.querySelector('#df-47cceebb-49fe-43e7-840f-020a62d7648d');\n",
              "          const dataTable =\n",
              "            await google.colab.kernel.invokeFunction('convertToInteractive',\n",
              "                                                     [key], {});\n",
              "          if (!dataTable) return;\n",
              "\n",
              "          const docLinkHtml = 'Like what you see? Visit the ' +\n",
              "            '<a target=\"_blank\" href=https://colab.research.google.com/notebooks/data_table.ipynb>data table notebook</a>'\n",
              "            + ' to learn more about interactive tables.';\n",
              "          element.innerHTML = '';\n",
              "          dataTable['output_type'] = 'display_data';\n",
              "          await google.colab.output.renderOutput(dataTable, element);\n",
              "          const docLink = document.createElement('div');\n",
              "          docLink.innerHTML = docLinkHtml;\n",
              "          element.appendChild(docLink);\n",
              "        }\n",
              "      </script>\n",
              "    </div>\n",
              "  </div>\n",
              "  "
            ],
            "text/plain": [
              "       MEAN_RR    MEDIAN_RR        SDRR  ...    HF_VLF  condition  condition_label\n",
              "0  1183.843150  1181.251800  365.254689  ...  0.004441     stress                1\n",
              "1  1021.041857  1022.250750  100.521147  ...  0.002541  no stress                0\n",
              "2   820.137142   836.800665  107.879842  ...  0.013737     stress                1\n",
              "3   716.399934   745.647205  127.779239  ...  0.015717  no stress                0\n",
              "4   977.406611  1041.002800  361.240628  ...  0.005019     stress                1\n",
              "\n",
              "[5 rows x 64 columns]"
            ]
          },
          "metadata": {},
          "execution_count": 4
        }
      ]
    },
    {
      "cell_type": "code",
      "metadata": {
        "id": "zMbRcIyAvtbR"
      },
      "source": [
        "from sklearn.model_selection import train_test_split\n",
        "train,test = train_test_split(df, stratify = df['condition'],\n",
        "    train_size=0.7,\n",
        "    random_state=21)"
      ],
      "execution_count": null,
      "outputs": []
    },
    {
      "cell_type": "code",
      "metadata": {
        "colab": {
          "base_uri": "https://localhost:8080/"
        },
        "id": "7Ndivu2Dvtg9",
        "outputId": "1d822b5a-f31e-46f9-d4cd-d86d3a0141a2"
      },
      "source": [
        "print(test.shape)\n",
        "print(train.shape)"
      ],
      "execution_count": null,
      "outputs": [
        {
          "output_type": "stream",
          "name": "stdout",
          "text": [
            "(158187, 64)\n",
            "(369101, 64)\n"
          ]
        }
      ]
    },
    {
      "cell_type": "code",
      "metadata": {
        "colab": {
          "base_uri": "https://localhost:8080/"
        },
        "id": "DshGeuvVvtkP",
        "outputId": "9b1a2ecf-7563-420b-c6c3-89fb927f9e14"
      },
      "source": [
        "X_train=train.drop(labels=['condition',\"condition_label\"], axis=1)\n",
        "y_train=train['condition_label']\n",
        "y_train"
      ],
      "execution_count": null,
      "outputs": [
        {
          "output_type": "execute_result",
          "data": {
            "text/plain": [
              "430528    0\n",
              "168344    1\n",
              "162365    1\n",
              "278790    1\n",
              "28727     1\n",
              "         ..\n",
              "435594    0\n",
              "283933    0\n",
              "181254    1\n",
              "509305    0\n",
              "482914    1\n",
              "Name: condition_label, Length: 369101, dtype: int64"
            ]
          },
          "metadata": {},
          "execution_count": 7
        }
      ]
    },
    {
      "cell_type": "code",
      "metadata": {
        "colab": {
          "base_uri": "https://localhost:8080/"
        },
        "id": "kkUYJ1zcvtmq",
        "outputId": "5bec4520-1f02-4f9c-aa6c-24b8773030fd"
      },
      "source": [
        "#X_test = test.drop(corr_features,axis=1)\n",
        "X_test=test.drop(labels=['condition',\"condition_label\"], axis=1)\n",
        "y_test=test['condition_label']\n",
        "y_test"
      ],
      "execution_count": null,
      "outputs": [
        {
          "output_type": "execute_result",
          "data": {
            "text/plain": [
              "347438    1\n",
              "275251    0\n",
              "244557    1\n",
              "154468    1\n",
              "268953    0\n",
              "         ..\n",
              "197112    0\n",
              "389467    1\n",
              "508209    0\n",
              "446428    0\n",
              "309551    1\n",
              "Name: condition_label, Length: 158187, dtype: int64"
            ]
          },
          "metadata": {},
          "execution_count": 8
        }
      ]
    },
    {
      "cell_type": "code",
      "metadata": {
        "colab": {
          "base_uri": "https://localhost:8080/"
        },
        "id": "UAxdF8DEvtpy",
        "outputId": "ad84b584-6a2f-4e84-893c-c636fd40d2ab"
      },
      "source": [
        "print(X_train.shape)\n",
        "print(X_test.shape)"
      ],
      "execution_count": null,
      "outputs": [
        {
          "output_type": "stream",
          "name": "stdout",
          "text": [
            "(369101, 62)\n",
            "(158187, 62)\n"
          ]
        }
      ]
    },
    {
      "cell_type": "code",
      "metadata": {
        "id": "l8Syo51svts7"
      },
      "source": [
        "from sklearn.preprocessing import MinMaxScaler\n",
        "from sklearn.preprocessing import OneHotEncoder\n",
        "import keras\n",
        "from keras import backend as K\n",
        "from keras.models import Sequential\n",
        "from keras. layers import Activation\n",
        "from keras.layers.core import Dense, Dropout\n",
        "from tensorflow.keras.optimizers import Adam\n",
        "from keras.metrics import categorical_crossentropy\n",
        "from tensorflow.keras.utils import to_categorical\n",
        "from keras.layers import Conv1D\n",
        "import keras.layers as layers"
      ],
      "execution_count": null,
      "outputs": []
    },
    {
      "cell_type": "code",
      "metadata": {
        "id": "4fMJOgklwPZx"
      },
      "source": [
        "#normalizing features\n",
        "scaler = MinMaxScaler(feature_range=(0,1))\n",
        "train_samples = scaler.fit_transform(X_train)\n",
        "test_samples = scaler.fit_transform(X_test)\n",
        "y_train = y_train.to_numpy()\n",
        "y_test = y_test.to_numpy()\n",
        "#one-hot-encoding labels\n",
        "one_hot_encoder = OneHotEncoder(categories='auto')\n",
        "train_labels = one_hot_encoder.fit_transform(y_train.reshape(-1, 1)).toarray()\n",
        "test_labels = one_hot_encoder.fit_transform(y_test.reshape(-1, 1)).toarray()"
      ],
      "execution_count": null,
      "outputs": []
    },
    {
      "cell_type": "code",
      "metadata": {
        "colab": {
          "base_uri": "https://localhost:8080/"
        },
        "id": "CmIziC96Si_P",
        "outputId": "9462f626-22e2-45f8-f2da-98ff15464263"
      },
      "source": [
        "train_labels"
      ],
      "execution_count": null,
      "outputs": [
        {
          "output_type": "execute_result",
          "data": {
            "text/plain": [
              "array([[1., 0.],\n",
              "       [0., 1.],\n",
              "       [0., 1.],\n",
              "       ...,\n",
              "       [0., 1.],\n",
              "       [1., 0.],\n",
              "       [0., 1.]])"
            ]
          },
          "metadata": {},
          "execution_count": 12
        }
      ]
    },
    {
      "cell_type": "code",
      "metadata": {
        "id": "E4lryqzqwPky"
      },
      "source": [
        "\n",
        "#build the model\n",
        "model = Sequential([\n",
        "    Dense(418, input_shape=[62,], activation='relu'),\n",
        "    Dense(32, activation='relu'),\n",
        "    Dense(32, activation='relu'),\n",
        "    Dropout(0.2),\n",
        "    Dense(32, activation='relu'),\n",
        "    Dense(32, activation='relu'),\n",
        "    Dropout(0.2),\n",
        "    Dense(32, activation='relu'),\n",
        "    Dense(32, activation='relu'),\n",
        "    Dense(16, activation='relu'),\n",
        "    Dense(2, activation='softmax'),\n",
        "])\n",
        "#model = keras.Sequential()\n",
        "\n",
        "#model.add(layers.Conv1D(filters=6, kernel_size=120, activation='relu', input_shape=(62,)))\n",
        "#model.add(layers.MaxPooling())\n",
        "\n",
        "#model.add(layers.Flatten())\n",
        "\n",
        "#model.add(layers.Dense(units=120, activation='relu'))\n",
        "#model.add(layers.Dense(units=32, activation='relu'))\n",
        "#model.add(layers.Dense(units=32, activation='relu'))\n",
        "#model.add(layers.Dense(units=32, activation='relu'))\n",
        "#model.add(layers.Dense(units=32, activation='relu'))\n",
        "#model.add(layers.Dense(units=32, activation='relu'))\n",
        "#model.add(layers.Dense(units=2, activation = 'softmax'))"
      ],
      "execution_count": null,
      "outputs": []
    },
    {
      "cell_type": "code",
      "metadata": {
        "colab": {
          "base_uri": "https://localhost:8080/"
        },
        "id": "7PKOXs6202xX",
        "outputId": "c52ccb39-e3c0-4f27-b844-e7fdd1357ec6"
      },
      "source": [
        "model.summary()"
      ],
      "execution_count": null,
      "outputs": [
        {
          "output_type": "stream",
          "name": "stdout",
          "text": [
            "Model: \"sequential\"\n",
            "_________________________________________________________________\n",
            " Layer (type)                Output Shape              Param #   \n",
            "=================================================================\n",
            " dense (Dense)               (None, 418)               26334     \n",
            "                                                                 \n",
            " dense_1 (Dense)             (None, 32)                13408     \n",
            "                                                                 \n",
            " dense_2 (Dense)             (None, 32)                1056      \n",
            "                                                                 \n",
            " dropout (Dropout)           (None, 32)                0         \n",
            "                                                                 \n",
            " dense_3 (Dense)             (None, 32)                1056      \n",
            "                                                                 \n",
            " dense_4 (Dense)             (None, 32)                1056      \n",
            "                                                                 \n",
            " dropout_1 (Dropout)         (None, 32)                0         \n",
            "                                                                 \n",
            " dense_5 (Dense)             (None, 32)                1056      \n",
            "                                                                 \n",
            " dense_6 (Dense)             (None, 32)                1056      \n",
            "                                                                 \n",
            " dense_7 (Dense)             (None, 16)                528       \n",
            "                                                                 \n",
            " dense_8 (Dense)             (None, 2)                 34        \n",
            "                                                                 \n",
            "=================================================================\n",
            "Total params: 45,584\n",
            "Trainable params: 45,584\n",
            "Non-trainable params: 0\n",
            "_________________________________________________________________\n"
          ]
        }
      ]
    },
    {
      "cell_type": "code",
      "metadata": {
        "id": "iRcpRDs0wPuu"
      },
      "source": [
        "model.compile(Adam(learning_rate=.0001),\n",
        "              loss='categorical_crossentropy',\n",
        "              metrics=['accuracy'])"
      ],
      "execution_count": null,
      "outputs": []
    },
    {
      "cell_type": "code",
      "metadata": {
        "colab": {
          "base_uri": "https://localhost:8080/"
        },
        "id": "ljR2RyOHwWo0",
        "outputId": "bee28428-7c35-4639-fccb-dca6d2b21001"
      },
      "source": [
        "model1 = model.fit(train_samples, train_labels, validation_split=0.2, batch_size=5, epochs=20, shuffle=True, verbose=1)"
      ],
      "execution_count": null,
      "outputs": [
        {
          "output_type": "stream",
          "name": "stdout",
          "text": [
            "Epoch 1/20\n",
            "59056/59056 [==============================] - 190s 3ms/step - loss: 0.3840 - accuracy: 0.8138 - val_loss: 0.2131 - val_accuracy: 0.9153\n",
            "Epoch 2/20\n",
            "59056/59056 [==============================] - 197s 3ms/step - loss: 0.1750 - accuracy: 0.9311 - val_loss: 0.1430 - val_accuracy: 0.9410\n",
            "Epoch 3/20\n",
            "59056/59056 [==============================] - 196s 3ms/step - loss: 0.1104 - accuracy: 0.9586 - val_loss: 0.0846 - val_accuracy: 0.9674\n",
            "Epoch 4/20\n",
            "59056/59056 [==============================] - 193s 3ms/step - loss: 0.0824 - accuracy: 0.9700 - val_loss: 0.0612 - val_accuracy: 0.9780\n",
            "Epoch 5/20\n",
            "59056/59056 [==============================] - 193s 3ms/step - loss: 0.0668 - accuracy: 0.9764 - val_loss: 0.0359 - val_accuracy: 0.9878\n",
            "Epoch 6/20\n",
            "59056/59056 [==============================] - 201s 3ms/step - loss: 0.0550 - accuracy: 0.9809 - val_loss: 0.0526 - val_accuracy: 0.9802\n",
            "Epoch 7/20\n",
            "59056/59056 [==============================] - 197s 3ms/step - loss: 0.0465 - accuracy: 0.9838 - val_loss: 0.0292 - val_accuracy: 0.9898\n",
            "Epoch 8/20\n",
            "59056/59056 [==============================] - 206s 3ms/step - loss: 0.0417 - accuracy: 0.9860 - val_loss: 0.0184 - val_accuracy: 0.9932\n",
            "Epoch 9/20\n",
            "59056/59056 [==============================] - 191s 3ms/step - loss: 0.0370 - accuracy: 0.9878 - val_loss: 0.0292 - val_accuracy: 0.9894\n",
            "Epoch 10/20\n",
            "59056/59056 [==============================] - 196s 3ms/step - loss: 0.0333 - accuracy: 0.9891 - val_loss: 0.0103 - val_accuracy: 0.9974\n",
            "Epoch 11/20\n",
            "59056/59056 [==============================] - 194s 3ms/step - loss: 0.0301 - accuracy: 0.9901 - val_loss: 0.0701 - val_accuracy: 0.9770\n",
            "Epoch 12/20\n",
            "59056/59056 [==============================] - 206s 3ms/step - loss: 0.0271 - accuracy: 0.9912 - val_loss: 0.0340 - val_accuracy: 0.9897\n",
            "Epoch 13/20\n",
            "59056/59056 [==============================] - 199s 3ms/step - loss: 0.0255 - accuracy: 0.9917 - val_loss: 0.0119 - val_accuracy: 0.9962\n",
            "Epoch 14/20\n",
            "59056/59056 [==============================] - 191s 3ms/step - loss: 0.0245 - accuracy: 0.9924 - val_loss: 0.0212 - val_accuracy: 0.9921\n",
            "Epoch 15/20\n",
            "59056/59056 [==============================] - 193s 3ms/step - loss: 0.0218 - accuracy: 0.9931 - val_loss: 0.0101 - val_accuracy: 0.9971\n",
            "Epoch 16/20\n",
            "59056/59056 [==============================] - 192s 3ms/step - loss: 0.0213 - accuracy: 0.9934 - val_loss: 0.0055 - val_accuracy: 0.9984\n",
            "Epoch 17/20\n",
            "59056/59056 [==============================] - 188s 3ms/step - loss: 0.0203 - accuracy: 0.9939 - val_loss: 0.0243 - val_accuracy: 0.9911\n",
            "Epoch 18/20\n",
            "59056/59056 [==============================] - 192s 3ms/step - loss: 0.0192 - accuracy: 0.9943 - val_loss: 0.0324 - val_accuracy: 0.9896\n",
            "Epoch 19/20\n",
            "59056/59056 [==============================] - 196s 3ms/step - loss: 0.0182 - accuracy: 0.9944 - val_loss: 0.0211 - val_accuracy: 0.9922\n",
            "Epoch 20/20\n",
            "59056/59056 [==============================] - 198s 3ms/step - loss: 0.0173 - accuracy: 0.9949 - val_loss: 0.0060 - val_accuracy: 0.9984\n"
          ]
        }
      ]
    },
    {
      "cell_type": "code",
      "metadata": {
        "colab": {
          "base_uri": "https://localhost:8080/",
          "height": 268
        },
        "id": "MooHZQ8XjqUx",
        "outputId": "ac0523c3-82bf-41ac-f544-ffc889b4eaea"
      },
      "source": [
        "import matplotlib.pyplot as plt\n",
        "plt.plot(model1.history['loss'], label='training loss')\n",
        "plt.plot(model1.history['val_loss'], label='validation loss')\n",
        "plt.legend()\n",
        "plt.savefig('validationLossANN.pdf')\n",
        "plt.show()"
      ],
      "execution_count": null,
      "outputs": [
        {
          "output_type": "display_data",
          "data": {
            "image/png": "[encoded data removed]",
            "text/plain": [
              "<Figure size 432x288 with 1 Axes>"
            ]
          },
          "metadata": {
            "needs_background": "light"
          }
        }
      ]
    },
    {
      "cell_type": "code",
      "metadata": {
        "colab": {
          "base_uri": "https://localhost:8080/",
          "height": 265
        },
        "id": "jGo5IAR2udzz",
        "outputId": "6c0ccc7f-2461-4111-f0ec-1ce4b4fdda91"
      },
      "source": [
        "# plot the accuracy\n",
        "plt.plot(model1.history['accuracy'], label='training acc')\n",
        "plt.plot(model1.history['val_accuracy'], label='validation acc')\n",
        "plt.legend()\n",
        "plt.savefig('validationACCANN.pdf')\n",
        "plt.show()\n"
      ],
      "execution_count": null,
      "outputs": [
        {
          "output_type": "display_data",
          "data": {
            "image/png": "[encoded data removed]",
            "text/plain": [
              "<Figure size 432x288 with 1 Axes>"
            ]
          },
          "metadata": {
            "needs_background": "light"
          }
        }
      ]
    },
    {
      "cell_type": "code",
      "metadata": {
        "id": "a3jI1ZULa_sP"
      },
      "source": [
        "model.save_weights('/content/drive/MyDrive/Thesis Final Codes/checkpoints/FinalCheckpoint_995percentV2')"
      ],
      "execution_count": null,
      "outputs": []
    },
    {
      "cell_type": "code",
      "metadata": {
        "id": "9yr2QU0hbH4e"
      },
      "source": [
        "model1 = model.load_weights('/content/drive/MyDrive/Thesis Final Codes/checkpoints/FinalCheckpoint_995percent')"
      ],
      "execution_count": null,
      "outputs": []
    },
    {
      "cell_type": "code",
      "metadata": {
        "id": "UMSOfsuSX6dW"
      },
      "source": [
        "model2 = keras.models.Sequential(model.layers[:-1])"
      ],
      "execution_count": null,
      "outputs": []
    },
    {
      "cell_type": "code",
      "metadata": {
        "colab": {
          "base_uri": "https://localhost:8080/"
        },
        "id": "UHG4Gx1HX6rc",
        "outputId": "909c7f8e-14f4-43ec-d040-8bf2032ae4c2"
      },
      "source": [
        "model2.summary()"
      ],
      "execution_count": null,
      "outputs": [
        {
          "output_type": "stream",
          "name": "stdout",
          "text": [
            "Model: \"sequential_1\"\n",
            "_________________________________________________________________\n",
            " Layer (type)                Output Shape              Param #   \n",
            "=================================================================\n",
            " dense (Dense)               (None, 418)               26334     \n",
            "                                                                 \n",
            " dense_1 (Dense)             (None, 32)                13408     \n",
            "                                                                 \n",
            " dense_2 (Dense)             (None, 32)                1056      \n",
            "                                                                 \n",
            " dropout (Dropout)           (None, 32)                0         \n",
            "                                                                 \n",
            " dense_3 (Dense)             (None, 32)                1056      \n",
            "                                                                 \n",
            " dense_4 (Dense)             (None, 32)                1056      \n",
            "                                                                 \n",
            " dropout_1 (Dropout)         (None, 32)                0         \n",
            "                                                                 \n",
            " dense_5 (Dense)             (None, 32)                1056      \n",
            "                                                                 \n",
            " dense_6 (Dense)             (None, 32)                1056      \n",
            "                                                                 \n",
            " dense_7 (Dense)             (None, 16)                528       \n",
            "                                                                 \n",
            "=================================================================\n",
            "Total params: 45,550\n",
            "Trainable params: 45,550\n",
            "Non-trainable params: 0\n",
            "_________________________________________________________________\n"
          ]
        }
      ]
    },
    {
      "cell_type": "code",
      "metadata": {
        "id": "pjhsO641X637"
      },
      "source": [
        "features = model2.predict(train_samples)"
      ],
      "execution_count": null,
      "outputs": []
    },
    {
      "cell_type": "code",
      "metadata": {
        "colab": {
          "base_uri": "https://localhost:8080/"
        },
        "id": "_BwyBCwDX7Dy",
        "outputId": "b5375a52-b6f4-4295-cb13-e66278eab8ac"
      },
      "source": [
        "features.shape"
      ],
      "execution_count": null,
      "outputs": [
        {
          "output_type": "execute_result",
          "data": {
            "text/plain": [
              "(369101, 16)"
            ]
          },
          "metadata": {},
          "execution_count": 20
        }
      ]
    },
    {
      "cell_type": "code",
      "metadata": {
        "colab": {
          "base_uri": "https://localhost:8080/"
        },
        "id": "SQ6MuC8HvdDC",
        "outputId": "5f3fe1af-2418-4d7a-c1ef-cb1836e4522b"
      },
      "source": [
        "features"
      ],
      "execution_count": null,
      "outputs": [
        {
          "output_type": "execute_result",
          "data": {
            "text/plain": [
              "array([[ 0.       ,  0.       ,  0.       , ...,  1.5880917,  0.       ,\n",
              "         0.       ],\n",
              "       [ 8.363326 ,  7.90938  ,  0.       , ...,  0.       ,  0.       ,\n",
              "         5.6425653],\n",
              "       [ 5.313506 ,  5.0465674,  0.       , ...,  0.       ,  0.       ,\n",
              "         3.5824637],\n",
              "       ...,\n",
              "       [15.030336 , 14.346928 ,  0.       , ...,  0.       ,  0.       ,\n",
              "        10.453796 ],\n",
              "       [ 0.       ,  0.       ,  0.       , ...,  8.660603 ,  0.       ,\n",
              "         0.       ],\n",
              "       [ 3.3633966,  3.2097573,  0.       , ...,  0.       ,  0.       ,\n",
              "         2.3131182]], dtype=float32)"
            ]
          },
          "metadata": {},
          "execution_count": 21
        }
      ]
    },
    {
      "cell_type": "code",
      "metadata": {
        "id": "I8bfDhksvoHB"
      },
      "source": [
        "features = scaler.fit_transform(features)"
      ],
      "execution_count": null,
      "outputs": []
    },
    {
      "cell_type": "code",
      "metadata": {
        "id": "yD_9XvX9X7O4"
      },
      "source": [
        "test_features = model2.predict(test_samples)"
      ],
      "execution_count": null,
      "outputs": []
    },
    {
      "cell_type": "code",
      "metadata": {
        "colab": {
          "base_uri": "https://localhost:8080/"
        },
        "id": "B4ZINFT437IK",
        "outputId": "f1c6781d-b1f8-4257-81ab-7f4d6460c437"
      },
      "source": [
        "test_features.shape"
      ],
      "execution_count": null,
      "outputs": [
        {
          "output_type": "execute_result",
          "data": {
            "text/plain": [
              "(158187, 16)"
            ]
          },
          "metadata": {},
          "execution_count": 24
        }
      ]
    },
    {
      "cell_type": "code",
      "metadata": {
        "id": "cICCHaf7vz5K"
      },
      "source": [
        "test_features = scaler.fit_transform(test_features)"
      ],
      "execution_count": null,
      "outputs": []
    },
    {
      "cell_type": "code",
      "metadata": {
        "id": "KoRYndieC9AO"
      },
      "source": [
        "from sklearn.metrics import confusion_matrix,roc_auc_score,accuracy_score\n",
        "from sklearn.metrics import roc_curve, auc\n",
        "import matplotlib.pyplot as plt\n",
        "import seaborn as sns\n",
        "import time"
      ],
      "execution_count": null,
      "outputs": []
    },
    {
      "cell_type": "code",
      "metadata": {
        "colab": {
          "base_uri": "https://localhost:8080/"
        },
        "id": "8Yiie4Sd-EG7",
        "outputId": "05e84d91-0a8c-4461-ecb7-29470ec1d216"
      },
      "source": [
        "t0=time.time()\n",
        "from sklearn.tree import DecisionTreeClassifier\n",
        "dt = DecisionTreeClassifier()\n",
        "dt.fit(features, y_train)\n",
        "print('Accuracy of DT classifier on training set: {:.2f}'\n",
        "     .format(dt.score(features, y_train)))\n",
        "print('Accuracy of DT classifier on test set: {:.2f}'\n",
        "     .format(dt.score(test_features, y_test)))\n",
        "y_pred = dt.predict(test_features)\n",
        "from sklearn.metrics import classification_report\n",
        "print(classification_report(y_test, y_pred, digits=4))\n",
        "tt_dt = time.time() - t0\n",
        "print(\"Time taken for DT Classifier:{}\".format(tt_dt))\n",
        "accuracy_dt = accuracy_score(y_test, y_pred)\n"
      ],
      "execution_count": null,
      "outputs": [
        {
          "output_type": "stream",
          "name": "stdout",
          "text": [
            "Accuracy of DT classifier on training set: 1.00\n",
            "Accuracy of DT classifier on test set: 0.95\n",
            "              precision    recall  f1-score   support\n",
            "\n",
            "           0     0.9512    0.9668    0.9590     92132\n",
            "           1     0.9526    0.9309    0.9416     66055\n",
            "\n",
            "    accuracy                         0.9518    158187\n",
            "   macro avg     0.9519    0.9488    0.9503    158187\n",
            "weighted avg     0.9518    0.9518    0.9517    158187\n",
            "\n",
            "Time taken for DT Classifier:12.104492664337158\n"
          ]
        }
      ]
    },
    {
      "cell_type": "code",
      "metadata": {
        "colab": {
          "base_uri": "https://localhost:8080/",
          "height": 338
        },
        "id": "LYhUqlQfRDIg",
        "outputId": "1fb8f7f2-c755-453a-cb0f-8509e976190e"
      },
      "source": [
        "cm = confusion_matrix(y_test, y_pred)\n",
        "print(cm)\n",
        "sns.heatmap(cm,\n",
        "            annot=True,\n",
        "            cmap=\"YlGnBu\",fmt=\"d\")\n",
        "plt.savefig(\"DT_confmatrix.pdf\")\n",
        "plt.figure(figsize=(10,10))\n"
      ],
      "execution_count": null,
      "outputs": [
        {
          "output_type": "stream",
          "name": "stdout",
          "text": [
            "[[89177  2955]\n",
            " [ 4800 61255]]\n"
          ]
        },
        {
          "output_type": "execute_result",
          "data": {
            "text/plain": [
              "<Figure size 720x720 with 0 Axes>"
            ]
          },
          "metadata": {},
          "execution_count": 90
        },
        {
          "output_type": "display_data",
          "data": {
            "image/png": "[encoded data removed]",
            "text/plain": [
              "<Figure size 432x288 with 2 Axes>"
            ]
          },
          "metadata": {
            "needs_background": "light"
          }
        },
        {
          "output_type": "display_data",
          "data": {
            "text/plain": [
              "<Figure size 720x720 with 0 Axes>"
            ]
          },
          "metadata": {}
        }
      ]
    },
    {
      "cell_type": "code",
      "metadata": {
        "colab": {
          "base_uri": "https://localhost:8080/",
          "height": 639
        },
        "id": "NbiElIZeYBRz",
        "outputId": "8e0539f9-0368-4725-dde1-98c39308df2e"
      },
      "source": [
        "false_positive_rate, true_positive_rate, thresholds = roc_curve(y_test, y_pred)\n",
        "roc_auc = auc(false_positive_rate, true_positive_rate)\n",
        "print(roc_auc)\n",
        "plt.figure(figsize=(10,10))\n",
        "plt.title('Receiver Operating Characteristic')\n",
        "plt.plot(false_positive_rate,true_positive_rate, color='red',label = 'AUC = %0.2f' % roc_auc)\n",
        "plt.legend(loc = 'lower right')\n",
        "plt.plot([0, 1], [0, 1],linestyle='--')\n",
        "plt.axis('tight')\n",
        "plt.ylabel('True Positive Rate')\n",
        "plt.xlabel('False Positive Rate')\n",
        "plt.savefig(\"ROC_DT.pdf\")"
      ],
      "execution_count": null,
      "outputs": [
        {
          "output_type": "stream",
          "name": "stdout",
          "text": [
            "0.9482255704588273\n"
          ]
        },
        {
          "output_type": "display_data",
          "data": {
            "image/png": "[encoded data removed]",
            "text/plain": [
              "<Figure size 720x720 with 1 Axes>"
            ]
          },
          "metadata": {
            "needs_background": "light"
          }
        }
      ]
    },
    {
      "cell_type": "code",
      "metadata": {
        "id": "qPmKQZGGFRwB",
        "colab": {
          "base_uri": "https://localhost:8080/",
          "height": 432
        },
        "outputId": "cba33fcc-b45e-400d-d80b-2eb556c7875e"
      },
      "source": [
        "t0 = time.time()\n",
        "from sklearn.neighbors import KNeighborsClassifier\n",
        "clf = KNeighborsClassifier(n_neighbors=10, n_jobs=-1).fit(features, y_train)\n",
        "print('Accuracy of K-NN classifier on training set: {:.2f}'\n",
        "     .format(clf.score(features, y_train)))\n",
        "print('Accuracy of K-NN classifier on test set: {:.2f}'\n",
        "     .format(clf.score(test_features, y_test)))\n",
        "y_pred = clf.predict(test_features)\n",
        "from sklearn.metrics import classification_report\n",
        "print(classification_report(y_test, y_pred, digits=4))\n",
        "tt_knn = time.time() - t0\n",
        "print(\"Time taken for K-NN Classifier:{}\".format(tt_knn))\n",
        "accuracy_knn = accuracy_score(y_test, y_pred)"
      ],
      "execution_count": null,
      "outputs": [
        {
          "output_type": "error",
          "ename": "KeyboardInterrupt",
          "evalue": "ignored",
          "traceback": [
            "\u001b[0;31m---------------------------------------------------------------------------\u001b[0m",
            "\u001b[0;31mKeyboardInterrupt\u001b[0m                         Traceback (most recent call last)",
            "\u001b[0;32m<ipython-input-28-8450dc0a3196>\u001b[0m in \u001b[0;36m<module>\u001b[0;34m()\u001b[0m\n\u001b[1;32m      3\u001b[0m \u001b[0mclf\u001b[0m \u001b[0;34m=\u001b[0m \u001b[0mKNeighborsClassifier\u001b[0m\u001b[0;34m(\u001b[0m\u001b[0mn_neighbors\u001b[0m\u001b[0;34m=\u001b[0m\u001b[0;36m10\u001b[0m\u001b[0;34m,\u001b[0m \u001b[0mn_jobs\u001b[0m\u001b[0;34m=\u001b[0m\u001b[0;34m-\u001b[0m\u001b[0;36m1\u001b[0m\u001b[0;34m)\u001b[0m\u001b[0;34m.\u001b[0m\u001b[0mfit\u001b[0m\u001b[0;34m(\u001b[0m\u001b[0mfeatures\u001b[0m\u001b[0;34m,\u001b[0m \u001b[0my_train\u001b[0m\u001b[0;34m)\u001b[0m\u001b[0;34m\u001b[0m\u001b[0;34m\u001b[0m\u001b[0m\n\u001b[1;32m      4\u001b[0m print('Accuracy of K-NN classifier on training set: {:.2f}'\n\u001b[0;32m----> 5\u001b[0;31m      .format(clf.score(features, y_train)))\n\u001b[0m\u001b[1;32m      6\u001b[0m print('Accuracy of K-NN classifier on test set: {:.2f}'\n\u001b[1;32m      7\u001b[0m      .format(clf.score(test_features, y_test)))\n",
            "\u001b[0;32m/usr/local/lib/python3.7/dist-packages/sklearn/base.py\u001b[0m in \u001b[0;36mscore\u001b[0;34m(self, X, y, sample_weight)\u001b[0m\n\u001b[1;32m    644\u001b[0m         \u001b[0;32mfrom\u001b[0m \u001b[0;34m.\u001b[0m\u001b[0mmetrics\u001b[0m \u001b[0;32mimport\u001b[0m \u001b[0maccuracy_score\u001b[0m\u001b[0;34m\u001b[0m\u001b[0;34m\u001b[0m\u001b[0m\n\u001b[1;32m    645\u001b[0m \u001b[0;34m\u001b[0m\u001b[0m\n\u001b[0;32m--> 646\u001b[0;31m         \u001b[0;32mreturn\u001b[0m \u001b[0maccuracy_score\u001b[0m\u001b[0;34m(\u001b[0m\u001b[0my\u001b[0m\u001b[0;34m,\u001b[0m \u001b[0mself\u001b[0m\u001b[0;34m.\u001b[0m\u001b[0mpredict\u001b[0m\u001b[0;34m(\u001b[0m\u001b[0mX\u001b[0m\u001b[0;34m)\u001b[0m\u001b[0;34m,\u001b[0m \u001b[0msample_weight\u001b[0m\u001b[0;34m=\u001b[0m\u001b[0msample_weight\u001b[0m\u001b[0;34m)\u001b[0m\u001b[0;34m\u001b[0m\u001b[0;34m\u001b[0m\u001b[0m\n\u001b[0m\u001b[1;32m    647\u001b[0m \u001b[0;34m\u001b[0m\u001b[0m\n\u001b[1;32m    648\u001b[0m     \u001b[0;32mdef\u001b[0m \u001b[0m_more_tags\u001b[0m\u001b[0;34m(\u001b[0m\u001b[0mself\u001b[0m\u001b[0;34m)\u001b[0m\u001b[0;34m:\u001b[0m\u001b[0;34m\u001b[0m\u001b[0;34m\u001b[0m\u001b[0m\n",
            "\u001b[0;32m/usr/local/lib/python3.7/dist-packages/sklearn/neighbors/_classification.py\u001b[0m in \u001b[0;36mpredict\u001b[0;34m(self, X)\u001b[0m\n\u001b[1;32m    212\u001b[0m             \u001b[0mClass\u001b[0m \u001b[0mlabels\u001b[0m \u001b[0;32mfor\u001b[0m \u001b[0meach\u001b[0m \u001b[0mdata\u001b[0m \u001b[0msample\u001b[0m\u001b[0;34m.\u001b[0m\u001b[0;34m\u001b[0m\u001b[0;34m\u001b[0m\u001b[0m\n\u001b[1;32m    213\u001b[0m         \"\"\"\n\u001b[0;32m--> 214\u001b[0;31m         \u001b[0mneigh_dist\u001b[0m\u001b[0;34m,\u001b[0m \u001b[0mneigh_ind\u001b[0m \u001b[0;34m=\u001b[0m \u001b[0mself\u001b[0m\u001b[0;34m.\u001b[0m\u001b[0mkneighbors\u001b[0m\u001b[0;34m(\u001b[0m\u001b[0mX\u001b[0m\u001b[0;34m)\u001b[0m\u001b[0;34m\u001b[0m\u001b[0;34m\u001b[0m\u001b[0m\n\u001b[0m\u001b[1;32m    215\u001b[0m         \u001b[0mclasses_\u001b[0m \u001b[0;34m=\u001b[0m \u001b[0mself\u001b[0m\u001b[0;34m.\u001b[0m\u001b[0mclasses_\u001b[0m\u001b[0;34m\u001b[0m\u001b[0;34m\u001b[0m\u001b[0m\n\u001b[1;32m    216\u001b[0m         \u001b[0m_y\u001b[0m \u001b[0;34m=\u001b[0m \u001b[0mself\u001b[0m\u001b[0;34m.\u001b[0m\u001b[0m_y\u001b[0m\u001b[0;34m\u001b[0m\u001b[0;34m\u001b[0m\u001b[0m\n",
            "\u001b[0;32m/usr/local/lib/python3.7/dist-packages/sklearn/neighbors/_base.py\u001b[0m in \u001b[0;36mkneighbors\u001b[0;34m(self, X, n_neighbors, return_distance)\u001b[0m\n\u001b[1;32m    754\u001b[0m                     \u001b[0mmetric\u001b[0m\u001b[0;34m=\u001b[0m\u001b[0mself\u001b[0m\u001b[0;34m.\u001b[0m\u001b[0meffective_metric_\u001b[0m\u001b[0;34m,\u001b[0m\u001b[0;34m\u001b[0m\u001b[0;34m\u001b[0m\u001b[0m\n\u001b[1;32m    755\u001b[0m                     \u001b[0mn_jobs\u001b[0m\u001b[0;34m=\u001b[0m\u001b[0mn_jobs\u001b[0m\u001b[0;34m,\u001b[0m\u001b[0;34m\u001b[0m\u001b[0;34m\u001b[0m\u001b[0m\n\u001b[0;32m--> 756\u001b[0;31m                     \u001b[0;34m**\u001b[0m\u001b[0mkwds\u001b[0m\u001b[0;34m,\u001b[0m\u001b[0;34m\u001b[0m\u001b[0;34m\u001b[0m\u001b[0m\n\u001b[0m\u001b[1;32m    757\u001b[0m                 )\n\u001b[1;32m    758\u001b[0m             )\n",
            "\u001b[0;32m/usr/local/lib/python3.7/dist-packages/sklearn/metrics/pairwise.py\u001b[0m in \u001b[0;36mpairwise_distances_chunked\u001b[0;34m(X, Y, reduce_func, metric, n_jobs, working_memory, **kwds)\u001b[0m\n\u001b[1;32m   1719\u001b[0m         \u001b[0;32mif\u001b[0m \u001b[0mreduce_func\u001b[0m \u001b[0;32mis\u001b[0m \u001b[0;32mnot\u001b[0m \u001b[0;32mNone\u001b[0m\u001b[0;34m:\u001b[0m\u001b[0;34m\u001b[0m\u001b[0;34m\u001b[0m\u001b[0m\n\u001b[1;32m   1720\u001b[0m             \u001b[0mchunk_size\u001b[0m \u001b[0;34m=\u001b[0m \u001b[0mD_chunk\u001b[0m\u001b[0;34m.\u001b[0m\u001b[0mshape\u001b[0m\u001b[0;34m[\u001b[0m\u001b[0;36m0\u001b[0m\u001b[0;34m]\u001b[0m\u001b[0;34m\u001b[0m\u001b[0;34m\u001b[0m\u001b[0m\n\u001b[0;32m-> 1721\u001b[0;31m             \u001b[0mD_chunk\u001b[0m \u001b[0;34m=\u001b[0m \u001b[0mreduce_func\u001b[0m\u001b[0;34m(\u001b[0m\u001b[0mD_chunk\u001b[0m\u001b[0;34m,\u001b[0m \u001b[0msl\u001b[0m\u001b[0;34m.\u001b[0m\u001b[0mstart\u001b[0m\u001b[0;34m)\u001b[0m\u001b[0;34m\u001b[0m\u001b[0;34m\u001b[0m\u001b[0m\n\u001b[0m\u001b[1;32m   1722\u001b[0m             \u001b[0m_check_chunk_size\u001b[0m\u001b[0;34m(\u001b[0m\u001b[0mD_chunk\u001b[0m\u001b[0;34m,\u001b[0m \u001b[0mchunk_size\u001b[0m\u001b[0;34m)\u001b[0m\u001b[0;34m\u001b[0m\u001b[0;34m\u001b[0m\u001b[0m\n\u001b[1;32m   1723\u001b[0m         \u001b[0;32myield\u001b[0m \u001b[0mD_chunk\u001b[0m\u001b[0;34m\u001b[0m\u001b[0;34m\u001b[0m\u001b[0m\n",
            "\u001b[0;32m/usr/local/lib/python3.7/dist-packages/sklearn/neighbors/_base.py\u001b[0m in \u001b[0;36m_kneighbors_reduce_func\u001b[0;34m(self, dist, start, n_neighbors, return_distance)\u001b[0m\n\u001b[1;32m    629\u001b[0m         \"\"\"\n\u001b[1;32m    630\u001b[0m         \u001b[0msample_range\u001b[0m \u001b[0;34m=\u001b[0m \u001b[0mnp\u001b[0m\u001b[0;34m.\u001b[0m\u001b[0marange\u001b[0m\u001b[0;34m(\u001b[0m\u001b[0mdist\u001b[0m\u001b[0;34m.\u001b[0m\u001b[0mshape\u001b[0m\u001b[0;34m[\u001b[0m\u001b[0;36m0\u001b[0m\u001b[0;34m]\u001b[0m\u001b[0;34m)\u001b[0m\u001b[0;34m[\u001b[0m\u001b[0;34m:\u001b[0m\u001b[0;34m,\u001b[0m \u001b[0;32mNone\u001b[0m\u001b[0;34m]\u001b[0m\u001b[0;34m\u001b[0m\u001b[0;34m\u001b[0m\u001b[0m\n\u001b[0;32m--> 631\u001b[0;31m         \u001b[0mneigh_ind\u001b[0m \u001b[0;34m=\u001b[0m \u001b[0mnp\u001b[0m\u001b[0;34m.\u001b[0m\u001b[0margpartition\u001b[0m\u001b[0;34m(\u001b[0m\u001b[0mdist\u001b[0m\u001b[0;34m,\u001b[0m \u001b[0mn_neighbors\u001b[0m \u001b[0;34m-\u001b[0m \u001b[0;36m1\u001b[0m\u001b[0;34m,\u001b[0m \u001b[0maxis\u001b[0m\u001b[0;34m=\u001b[0m\u001b[0;36m1\u001b[0m\u001b[0;34m)\u001b[0m\u001b[0;34m\u001b[0m\u001b[0;34m\u001b[0m\u001b[0m\n\u001b[0m\u001b[1;32m    632\u001b[0m         \u001b[0mneigh_ind\u001b[0m \u001b[0;34m=\u001b[0m \u001b[0mneigh_ind\u001b[0m\u001b[0;34m[\u001b[0m\u001b[0;34m:\u001b[0m\u001b[0;34m,\u001b[0m \u001b[0;34m:\u001b[0m\u001b[0mn_neighbors\u001b[0m\u001b[0;34m]\u001b[0m\u001b[0;34m\u001b[0m\u001b[0;34m\u001b[0m\u001b[0m\n\u001b[1;32m    633\u001b[0m         \u001b[0;31m# argpartition doesn't guarantee sorted order, so we sort again\u001b[0m\u001b[0;34m\u001b[0m\u001b[0;34m\u001b[0m\u001b[0;34m\u001b[0m\u001b[0m\n",
            "\u001b[0;32m<__array_function__ internals>\u001b[0m in \u001b[0;36margpartition\u001b[0;34m(*args, **kwargs)\u001b[0m\n",
            "\u001b[0;32m/usr/local/lib/python3.7/dist-packages/numpy/core/fromnumeric.py\u001b[0m in \u001b[0;36margpartition\u001b[0;34m(a, kth, axis, kind, order)\u001b[0m\n\u001b[1;32m    830\u001b[0m \u001b[0;34m\u001b[0m\u001b[0m\n\u001b[1;32m    831\u001b[0m     \"\"\"\n\u001b[0;32m--> 832\u001b[0;31m     \u001b[0;32mreturn\u001b[0m \u001b[0m_wrapfunc\u001b[0m\u001b[0;34m(\u001b[0m\u001b[0ma\u001b[0m\u001b[0;34m,\u001b[0m \u001b[0;34m'argpartition'\u001b[0m\u001b[0;34m,\u001b[0m \u001b[0mkth\u001b[0m\u001b[0;34m,\u001b[0m \u001b[0maxis\u001b[0m\u001b[0;34m=\u001b[0m\u001b[0maxis\u001b[0m\u001b[0;34m,\u001b[0m \u001b[0mkind\u001b[0m\u001b[0;34m=\u001b[0m\u001b[0mkind\u001b[0m\u001b[0;34m,\u001b[0m \u001b[0morder\u001b[0m\u001b[0;34m=\u001b[0m\u001b[0morder\u001b[0m\u001b[0;34m)\u001b[0m\u001b[0;34m\u001b[0m\u001b[0;34m\u001b[0m\u001b[0m\n\u001b[0m\u001b[1;32m    833\u001b[0m \u001b[0;34m\u001b[0m\u001b[0m\n\u001b[1;32m    834\u001b[0m \u001b[0;34m\u001b[0m\u001b[0m\n",
            "\u001b[0;32m/usr/local/lib/python3.7/dist-packages/numpy/core/fromnumeric.py\u001b[0m in \u001b[0;36m_wrapfunc\u001b[0;34m(obj, method, *args, **kwds)\u001b[0m\n\u001b[1;32m     56\u001b[0m \u001b[0;34m\u001b[0m\u001b[0m\n\u001b[1;32m     57\u001b[0m     \u001b[0;32mtry\u001b[0m\u001b[0;34m:\u001b[0m\u001b[0;34m\u001b[0m\u001b[0;34m\u001b[0m\u001b[0m\n\u001b[0;32m---> 58\u001b[0;31m         \u001b[0;32mreturn\u001b[0m \u001b[0mbound\u001b[0m\u001b[0;34m(\u001b[0m\u001b[0;34m*\u001b[0m\u001b[0margs\u001b[0m\u001b[0;34m,\u001b[0m \u001b[0;34m**\u001b[0m\u001b[0mkwds\u001b[0m\u001b[0;34m)\u001b[0m\u001b[0;34m\u001b[0m\u001b[0;34m\u001b[0m\u001b[0m\n\u001b[0m\u001b[1;32m     59\u001b[0m     \u001b[0;32mexcept\u001b[0m \u001b[0mTypeError\u001b[0m\u001b[0;34m:\u001b[0m\u001b[0;34m\u001b[0m\u001b[0;34m\u001b[0m\u001b[0m\n\u001b[1;32m     60\u001b[0m         \u001b[0;31m# A TypeError occurs if the object does have such a method in its\u001b[0m\u001b[0;34m\u001b[0m\u001b[0;34m\u001b[0m\u001b[0;34m\u001b[0m\u001b[0m\n",
            "\u001b[0;31mKeyboardInterrupt\u001b[0m: "
          ]
        }
      ]
    },
    {
      "cell_type": "code",
      "metadata": {
        "id": "B4aQanenyAIB"
      },
      "source": [
        "clf.score(features,y_train)"
      ],
      "execution_count": null,
      "outputs": []
    },
    {
      "cell_type": "code",
      "metadata": {
        "colab": {
          "base_uri": "https://localhost:8080/",
          "height": 315
        },
        "id": "QWIPoQmdRJN7",
        "outputId": "1d729b71-add1-4061-dc7d-2ba707ae07dd"
      },
      "source": [
        "cm = confusion_matrix(y_test, y_pred)\n",
        "print(cm)\n",
        "sns.heatmap(cm,\n",
        "            annot=True,\n",
        "            cmap=\"YlGnBu\",fmt=\"d\")\n",
        "plt.figure()\n",
        "plt.show()"
      ],
      "execution_count": null,
      "outputs": [
        {
          "name": "stdout",
          "output_type": "stream",
          "text": [
            "[[85357  6775]\n",
            " [ 6258 59797]]\n"
          ]
        },
        {
          "data": {
            "image/png": "[encoded data removed]",
            "text/plain": [
              "<Figure size 432x288 with 2 Axes>"
            ]
          },
          "metadata": {},
          "output_type": "display_data"
        },
        {
          "data": {
            "text/plain": [
              "<Figure size 432x288 with 0 Axes>"
            ]
          },
          "metadata": {},
          "output_type": "display_data"
        }
      ]
    },
    {
      "cell_type": "code",
      "metadata": {
        "colab": {
          "base_uri": "https://localhost:8080/",
          "height": 654
        },
        "id": "g4fVnSucZoRo",
        "outputId": "3f82bbed-3639-46d0-8e13-2557a8c5e070"
      },
      "source": [
        "false_positive_rate, true_positive_rate, thresholds = roc_curve(y_test, y_pred)\n",
        "roc_auc = auc(false_positive_rate, true_positive_rate)\n",
        "print(roc_auc)\n",
        "plt.figure(figsize=(10,10))\n",
        "plt.title('Receiver Operating Characteristic')\n",
        "plt.plot(false_positive_rate,true_positive_rate, color='red',label = 'AUC = %0.2f' % roc_auc)\n",
        "plt.legend(loc = 'lower right')\n",
        "plt.plot([0, 1], [0, 1],linestyle='--')\n",
        "plt.axis('tight')\n",
        "plt.ylabel('True Positive Rate')\n",
        "plt.xlabel('False Positive Rate')"
      ],
      "execution_count": null,
      "outputs": [
        {
          "name": "stdout",
          "output_type": "stream",
          "text": [
            "0.9158624855381298\n"
          ]
        },
        {
          "data": {
            "text/plain": [
              "Text(0.5, 0, 'False Positive Rate')"
            ]
          },
          "execution_count": 31,
          "metadata": {},
          "output_type": "execute_result"
        },
        {
          "data": {
            "image/png": "[encoded data removed]",
            "text/plain": [
              "<Figure size 720x720 with 1 Axes>"
            ]
          },
          "metadata": {},
          "output_type": "display_data"
        }
      ]
    },
    {
      "cell_type": "code",
      "metadata": {
        "colab": {
          "base_uri": "https://localhost:8080/"
        },
        "id": "A0HDMSXa3KZ3",
        "outputId": "89cd6d3b-8d46-45ab-ccaa-bcd3aaca4f2a"
      },
      "source": [
        "t0 = time.time()\n",
        "from sklearn.ensemble import RandomForestClassifier\n",
        "from sklearn.datasets import make_classification\n",
        "\n",
        "clf = RandomForestClassifier(max_depth=5, random_state=42)\n",
        "clf.fit(features, y_train)\n",
        "print('Accuracy of RF classifier on training set: {:.2f}'\n",
        "     .format(clf.score(features, y_train)))\n",
        "print('Accuracy of RF classifier on test set: {:.2f}'\n",
        "     .format(clf.score(test_features, y_test)))\n",
        "y_pred = clf.predict(test_features)\n",
        "from sklearn.metrics import classification_report\n",
        "print(classification_report(y_test, y_pred, digits=4))\n",
        "tt_rf = time.time() - t0\n",
        "print(\"Time taken for RF Classifier:{}\".format(tt_rf))\n",
        "accuracy_rf = accuracy_score(y_test, y_pred)"
      ],
      "execution_count": null,
      "outputs": [
        {
          "output_type": "stream",
          "name": "stdout",
          "text": [
            "Accuracy of RF classifier on training set: 1.00\n",
            "Accuracy of RF classifier on test set: 0.96\n",
            "              precision    recall  f1-score   support\n",
            "\n",
            "           0     0.9541    0.9727    0.9633     92132\n",
            "           1     0.9609    0.9348    0.9476     66055\n",
            "\n",
            "    accuracy                         0.9569    158187\n",
            "   macro avg     0.9575    0.9537    0.9555    158187\n",
            "weighted avg     0.9569    0.9569    0.9568    158187\n",
            "\n",
            "Time taken for RF Classifier:97.74040865898132\n"
          ]
        }
      ]
    },
    {
      "cell_type": "code",
      "metadata": {
        "colab": {
          "base_uri": "https://localhost:8080/",
          "height": 338
        },
        "id": "Q11MAmKmRLGh",
        "outputId": "3805df89-c834-4da6-f5af-e80ae69c9ae6"
      },
      "source": [
        "cm = confusion_matrix(y_test, y_pred)\n",
        "print(cm)\n",
        "sns.heatmap(cm,\n",
        "            annot=True,\n",
        "            cmap=\"YlGnBu\",fmt=\"d\")\n",
        "plt.savefig(\"Conf_RF.pdf\")\n",
        "plt.figure()\n",
        "\n"
      ],
      "execution_count": null,
      "outputs": [
        {
          "output_type": "stream",
          "name": "stdout",
          "text": [
            "[[89618  2514]\n",
            " [ 4309 61746]]\n"
          ]
        },
        {
          "output_type": "execute_result",
          "data": {
            "text/plain": [
              "<Figure size 432x288 with 0 Axes>"
            ]
          },
          "metadata": {},
          "execution_count": 92
        },
        {
          "output_type": "display_data",
          "data": {
            "image/png": "[encoded data removed]",
            "text/plain": [
              "<Figure size 432x288 with 2 Axes>"
            ]
          },
          "metadata": {
            "needs_background": "light"
          }
        },
        {
          "output_type": "display_data",
          "data": {
            "text/plain": [
              "<Figure size 432x288 with 0 Axes>"
            ]
          },
          "metadata": {}
        }
      ]
    },
    {
      "cell_type": "code",
      "metadata": {
        "colab": {
          "base_uri": "https://localhost:8080/",
          "height": 639
        },
        "id": "CE55KGxwZp7O",
        "outputId": "e6e4051a-978a-4530-a928-daea54fafc19"
      },
      "source": [
        "false_positive_rate, true_positive_rate, thresholds = roc_curve(y_test, y_pred)\n",
        "roc_auc = auc(false_positive_rate, true_positive_rate)\n",
        "print(roc_auc)\n",
        "plt.figure(figsize=(10,10))\n",
        "plt.title('Receiver Operating Characteristic')\n",
        "plt.plot(false_positive_rate,true_positive_rate, color='red',label = 'AUC = %0.2f' % roc_auc)\n",
        "plt.legend(loc = 'lower right')\n",
        "plt.plot([0, 1], [0, 1],linestyle='--')\n",
        "plt.axis('tight')\n",
        "plt.ylabel('True Positive Rate')\n",
        "plt.xlabel('False Positive Rate')\n",
        "plt.savefig(\"ROC_RF.pdf\")"
      ],
      "execution_count": null,
      "outputs": [
        {
          "output_type": "stream",
          "name": "stdout",
          "text": [
            "0.9537397731708068\n"
          ]
        },
        {
          "output_type": "display_data",
          "data": {
            "image/png": "[encoded data removed]",
            "text/plain": [
              "<Figure size 720x720 with 1 Axes>"
            ]
          },
          "metadata": {
            "needs_background": "light"
          }
        }
      ]
    },
    {
      "cell_type": "code",
      "metadata": {
        "colab": {
          "base_uri": "https://localhost:8080/"
        },
        "id": "j22yeHtYMtRt",
        "outputId": "81dedfb5-0c78-4eca-f73a-bbcc4ae9dcc3"
      },
      "source": [
        "t0 = time.time()\n",
        "from sklearn.naive_bayes import GaussianNB\n",
        "nb = GaussianNB()\n",
        "nb.fit(features, y_train)\n",
        "print('Accuracy of NB classifier on training set: {:.2f}'\n",
        "     .format(nb.score(features, y_train)))\n",
        "print('Accuracy of NB classifier on test set: {:.2f}'\n",
        "     .format(nb.score(test_features, y_test)))\n",
        "y_pred = nb.predict(test_features)\n",
        "from sklearn.metrics import classification_report\n",
        "print(classification_report(y_test, y_pred, digits=4))\n",
        "tt_nb = time.time() - t0\n",
        "print(\"Time taken for NB Classifier:{}\".format(tt_nb))\n",
        "accuracy_nb = accuracy_score(y_test, y_pred)"
      ],
      "execution_count": null,
      "outputs": [
        {
          "output_type": "stream",
          "name": "stdout",
          "text": [
            "Accuracy of NB classifier on training set: 1.00\n",
            "Accuracy of NB classifier on test set: 0.96\n",
            "              precision    recall  f1-score   support\n",
            "\n",
            "           0     0.9646    0.9625    0.9635     92132\n",
            "           1     0.9478    0.9507    0.9492     66055\n",
            "\n",
            "    accuracy                         0.9575    158187\n",
            "   macro avg     0.9562    0.9566    0.9564    158187\n",
            "weighted avg     0.9576    0.9575    0.9575    158187\n",
            "\n",
            "Time taken for NB Classifier:0.8003315925598145\n"
          ]
        }
      ]
    },
    {
      "cell_type": "code",
      "metadata": {
        "colab": {
          "base_uri": "https://localhost:8080/",
          "height": 338
        },
        "id": "DzBNq20iMtfi",
        "outputId": "c01e9ea7-332e-4695-a38a-71cd92af1b99"
      },
      "source": [
        "cm = confusion_matrix(y_test, y_pred)\n",
        "print(cm)\n",
        "sns.heatmap(cm,\n",
        "            annot=True,\n",
        "            cmap=\"YlGnBu\",fmt=\"d\")\n",
        "plt.savefig(\"Conf_NB.pdf\")\n",
        "plt.figure()\n",
        "\n"
      ],
      "execution_count": null,
      "outputs": [
        {
          "output_type": "stream",
          "name": "stdout",
          "text": [
            "[[88674  3458]\n",
            " [ 3259 62796]]\n"
          ]
        },
        {
          "output_type": "execute_result",
          "data": {
            "text/plain": [
              "<Figure size 432x288 with 0 Axes>"
            ]
          },
          "metadata": {},
          "execution_count": 94
        },
        {
          "output_type": "display_data",
          "data": {
            "image/png": "[encoded data removed]",
            "text/plain": [
              "<Figure size 432x288 with 2 Axes>"
            ]
          },
          "metadata": {
            "needs_background": "light"
          }
        },
        {
          "output_type": "display_data",
          "data": {
            "text/plain": [
              "<Figure size 432x288 with 0 Axes>"
            ]
          },
          "metadata": {}
        }
      ]
    },
    {
      "cell_type": "code",
      "metadata": {
        "colab": {
          "base_uri": "https://localhost:8080/",
          "height": 639
        },
        "id": "VNnzsBH_Mtq2",
        "outputId": "95ba933b-82e8-4631-afba-8a6a8d27ac53"
      },
      "source": [
        "false_positive_rate, true_positive_rate, thresholds = roc_curve(y_test, y_pred)\n",
        "roc_auc = auc(false_positive_rate, true_positive_rate)\n",
        "print(roc_auc)\n",
        "plt.figure(figsize=(10,10))\n",
        "plt.title('Receiver Operating Characteristic')\n",
        "plt.plot(false_positive_rate,true_positive_rate, color='red',label = 'AUC = %0.2f' % roc_auc)\n",
        "plt.legend(loc = 'lower right')\n",
        "plt.plot([0, 1], [0, 1],linestyle='--')\n",
        "plt.axis('tight')\n",
        "plt.ylabel('True Positive Rate')\n",
        "plt.xlabel('False Positive Rate')\n",
        "plt.savefig(\"ROC_NB.pdf\")"
      ],
      "execution_count": null,
      "outputs": [
        {
          "output_type": "stream",
          "name": "stdout",
          "text": [
            "0.9565646110864692\n"
          ]
        },
        {
          "output_type": "display_data",
          "data": {
            "image/png": "[encoded data removed]",
            "text/plain": [
              "<Figure size 720x720 with 1 Axes>"
            ]
          },
          "metadata": {
            "needs_background": "light"
          }
        }
      ]
    },
    {
      "cell_type": "markdown",
      "metadata": {
        "id": "naMb7eeOB53p"
      },
      "source": [
        "# Logistic **Regression**"
      ]
    },
    {
      "cell_type": "code",
      "metadata": {
        "colab": {
          "base_uri": "https://localhost:8080/"
        },
        "id": "GoY8GeyXBBWx",
        "outputId": "e0e9c23e-ccb8-4238-921a-be2ebdc0c253"
      },
      "source": [
        "from sklearn.linear_model import LogisticRegression\n",
        "t0 = time.time()\n",
        "clf = LogisticRegression(random_state=0)\n",
        "clf.fit(features, y_train)\n",
        "# make predictions for test data\n",
        "y_pred = clf.predict(test_features)\n",
        "print('Accuracy of Logistic Regression classifier on training set: {:.2f}'\n",
        "     .format(clf.score(features, y_train)))\n",
        "print('Accuracy of Logistic Regression classifier on test set: {:.2f}'\n",
        "     .format(clf.score(test_features, y_test)))\n",
        "from sklearn.metrics import classification_report\n",
        "print(classification_report(y_test, y_pred, digits=4))\n",
        "tt_lr = time.time() - t0\n",
        "print(\"Time taken for Logistic Regression Classifier:{}\".format(tt_lr))\n",
        "accuracy_lr = accuracy_score(y_test, y_pred)"
      ],
      "execution_count": null,
      "outputs": [
        {
          "output_type": "stream",
          "name": "stdout",
          "text": [
            "Accuracy of Logistic Regression classifier on training set: 1.00\n",
            "Accuracy of Logistic Regression classifier on test set: 0.95\n",
            "              precision    recall  f1-score   support\n",
            "\n",
            "           0     0.9740    0.9472    0.9604     92132\n",
            "           1     0.9290    0.9647    0.9465     66055\n",
            "\n",
            "    accuracy                         0.9545    158187\n",
            "   macro avg     0.9515    0.9559    0.9534    158187\n",
            "weighted avg     0.9552    0.9545    0.9546    158187\n",
            "\n",
            "Time taken for Logistic Regression Classifier:1.9775612354278564\n"
          ]
        }
      ]
    },
    {
      "cell_type": "code",
      "metadata": {
        "colab": {
          "base_uri": "https://localhost:8080/",
          "height": 338
        },
        "id": "lTY960BJBBnm",
        "outputId": "66847e48-962d-48b7-e951-2cb23b5d7f0e"
      },
      "source": [
        "cm = confusion_matrix(y_test, y_pred)\n",
        "print(cm)\n",
        "sns.heatmap(cm,\n",
        "            annot=True,\n",
        "            cmap=\"YlGnBu\",fmt=\"d\")\n",
        "plt.savefig(\"Conf_LR.pdf\")\n",
        "plt.figure()\n",
        "\n"
      ],
      "execution_count": null,
      "outputs": [
        {
          "output_type": "stream",
          "name": "stdout",
          "text": [
            "[[87264  4868]\n",
            " [ 2333 63722]]\n"
          ]
        },
        {
          "output_type": "execute_result",
          "data": {
            "text/plain": [
              "<Figure size 432x288 with 0 Axes>"
            ]
          },
          "metadata": {},
          "execution_count": 96
        },
        {
          "output_type": "display_data",
          "data": {
            "image/png": "[encoded data removed]",
            "text/plain": [
              "<Figure size 432x288 with 2 Axes>"
            ]
          },
          "metadata": {
            "needs_background": "light"
          }
        },
        {
          "output_type": "display_data",
          "data": {
            "text/plain": [
              "<Figure size 432x288 with 0 Axes>"
            ]
          },
          "metadata": {}
        }
      ]
    },
    {
      "cell_type": "code",
      "metadata": {
        "colab": {
          "base_uri": "https://localhost:8080/",
          "height": 639
        },
        "id": "vT1Irp9_BB1v",
        "outputId": "36d356ab-f69d-4ef4-b354-e791cc869001"
      },
      "source": [
        "false_positive_rate, true_positive_rate, thresholds = roc_curve(y_test, y_pred)\n",
        "roc_auc = auc(false_positive_rate, true_positive_rate)\n",
        "print(roc_auc)\n",
        "plt.figure(figsize=(10,10))\n",
        "plt.title('Receiver Operating Characteristic')\n",
        "plt.plot(false_positive_rate,true_positive_rate, color='red',label = 'AUC = %0.2f' % roc_auc)\n",
        "plt.legend(loc = 'lower right')\n",
        "plt.plot([0, 1], [0, 1],linestyle='--')\n",
        "plt.axis('tight')\n",
        "plt.ylabel('True Positive Rate')\n",
        "plt.xlabel('False Positive Rate')\n",
        "plt.savefig(\"ROC_LR.pdf\")"
      ],
      "execution_count": null,
      "outputs": [
        {
          "output_type": "stream",
          "name": "stdout",
          "text": [
            "0.9559218570803043\n"
          ]
        },
        {
          "output_type": "display_data",
          "data": {
            "image/png": "[encoded data removed]",
            "text/plain": [
              "<Figure size 720x720 with 1 Axes>"
            ]
          },
          "metadata": {
            "needs_background": "light"
          }
        }
      ]
    },
    {
      "cell_type": "markdown",
      "metadata": {
        "id": "cc4n13aOVygh"
      },
      "source": [
        "# **XGboosting ADDed**"
      ]
    },
    {
      "cell_type": "code",
      "metadata": {
        "colab": {
          "base_uri": "https://localhost:8080/"
        },
        "id": "3suNXfQHVxML",
        "outputId": "66c81082-b4e6-45e9-adbd-51dadacb5817"
      },
      "source": [
        "t0 = time.time()\n",
        "from xgboost import XGBClassifier\n",
        "xg = XGBClassifier()\n",
        "xg.fit(features, y_train)\n",
        "# make predictions for test data\n",
        "y_pred = xg.predict(test_features)\n",
        "print('Accuracy of XGboosting classifier on training set: {:.2f}'\n",
        "     .format(xg.score(features, y_train)))\n",
        "print('Accuracy of XGboosting classifier on test set: {:.2f}'\n",
        "     .format(xg.score(test_features, y_test)))\n",
        "from sklearn.metrics import classification_report\n",
        "print(classification_report(y_test, y_pred, digits=4))\n",
        "tt_xg = time.time() - t0\n",
        "print(\"Time taken for XGboostig Classifier:{}\".format(tt_xg))\n",
        "accuracy_xg = accuracy_score(y_test, y_pred)"
      ],
      "execution_count": null,
      "outputs": [
        {
          "output_type": "stream",
          "name": "stdout",
          "text": [
            "Accuracy of XGboosting classifier on training set: 1.00\n",
            "Accuracy of XGboosting classifier on test set: 0.96\n",
            "              precision    recall  f1-score   support\n",
            "\n",
            "           0     0.9563    0.9704    0.9633     92132\n",
            "           1     0.9578    0.9382    0.9479     66055\n",
            "\n",
            "    accuracy                         0.9569    158187\n",
            "   macro avg     0.9571    0.9543    0.9556    158187\n",
            "weighted avg     0.9570    0.9569    0.9569    158187\n",
            "\n",
            "Time taken for XGboostig Classifier:37.069464921951294\n"
          ]
        }
      ]
    },
    {
      "cell_type": "code",
      "metadata": {
        "colab": {
          "base_uri": "https://localhost:8080/",
          "height": 320
        },
        "id": "P7X44RSfH4fG",
        "outputId": "b010a862-cb25-4fbe-e70a-a2dbaa01ed61"
      },
      "source": [
        "cm = confusion_matrix(y_test, y_pred)\n",
        "print(cm)\n",
        "sns.heatmap(cm,\n",
        "            annot=True,\n",
        "            cmap=\"YlGnBu\",fmt=\"d\")\n",
        "plt.savefig(\"Conf_XGB.pdf\")\n",
        "plt.figure()\n",
        "\n",
        "plt.show()\n"
      ],
      "execution_count": null,
      "outputs": [
        {
          "output_type": "stream",
          "name": "stdout",
          "text": [
            "[[89404  2728]\n",
            " [ 4084 61971]]\n"
          ]
        },
        {
          "output_type": "display_data",
          "data": {
            "image/png": "[encoded data removed]",
            "text/plain": [
              "<Figure size 432x288 with 2 Axes>"
            ]
          },
          "metadata": {
            "needs_background": "light"
          }
        },
        {
          "output_type": "display_data",
          "data": {
            "text/plain": [
              "<Figure size 432x288 with 0 Axes>"
            ]
          },
          "metadata": {}
        }
      ]
    },
    {
      "cell_type": "code",
      "metadata": {
        "colab": {
          "base_uri": "https://localhost:8080/",
          "height": 639
        },
        "id": "m0mGOkVGH4x0",
        "outputId": "d9c320d0-3c86-4528-857f-44f4839c9001"
      },
      "source": [
        "false_positive_rate, true_positive_rate, thresholds = roc_curve(y_test, y_pred)\n",
        "roc_auc = auc(false_positive_rate, true_positive_rate)\n",
        "print(roc_auc)\n",
        "plt.figure(figsize=(10,10))\n",
        "plt.title('Receiver Operating Characteristic')\n",
        "plt.plot(false_positive_rate,true_positive_rate, color='red',label = 'AUC = %0.2f' % roc_auc)\n",
        "plt.legend(loc = 'lower right')\n",
        "plt.plot([0, 1], [0, 1],linestyle='--')\n",
        "plt.axis('tight')\n",
        "plt.ylabel('True Positive Rate')\n",
        "plt.xlabel('False Positive Rate')\n",
        "plt.savefig(\"ROC_XGB.pdf\")"
      ],
      "execution_count": null,
      "outputs": [
        {
          "output_type": "stream",
          "name": "stdout",
          "text": [
            "0.9542815221990159\n"
          ]
        },
        {
          "output_type": "display_data",
          "data": {
            "image/png": "[encoded data removed]",
            "text/plain": [
              "<Figure size 720x720 with 1 Axes>"
            ]
          },
          "metadata": {
            "needs_background": "light"
          }
        }
      ]
    },
    {
      "cell_type": "code",
      "metadata": {
        "colab": {
          "base_uri": "https://localhost:8080/",
          "height": 679
        },
        "id": "EGDtYXaX3LAL",
        "outputId": "023fb792-ff09-40e9-8e37-a3711332853b"
      },
      "source": [
        "#Plot of Accuracy vs Time and model\n",
        "accuracy_scores = [accuracy_dt, accuracy_rf, accuracy_xg, accuracy_nb, accuracy_lr,accuracy_svm]\n",
        "tt = [tt_dt, tt_rf, tt_xg, tt_nb, tt_lr,tt_svm]\n",
        "\n",
        "model_data = {'Model': ['ANN + DT','ANN + RF','ANN + XGB','ANN + NB',\"ANN + LR\",\"ANN + SVM\"],\n",
        "              'Accuracy': accuracy_scores,\n",
        "              'Time taken': tt}\n",
        "data = pd.DataFrame(model_data)\n",
        "\n",
        "fig, ax1 = plt.subplots(figsize=(14,11))\n",
        "ax1.set_title('Model Comparison: Accuracy and Time taken for execution', fontsize=13)\n",
        "color = 'tab:green'\n",
        "ax1.set_xlabel('Model', fontsize=13)\n",
        "ax1.set_ylabel('Time taken', fontsize=13, color=color)\n",
        "ax2 = sns.barplot(x='Model', y='Time taken', data = data, palette='summer')\n",
        "ax1.tick_params(axis='y')\n",
        "ax2 = ax1.twinx()\n",
        "color = 'tab:red'\n",
        "ax2.set_ylabel('Accuracy', fontsize=13, color=color)\n",
        "ax2 = sns.lineplot(x='Model', y='Accuracy', data = data, sort=False, color=color)\n",
        "ax2.tick_params(axis='y', color=color)\n",
        "plt.savefig(\"CompareHybrid.pdf\")"
      ],
      "execution_count": null,
      "outputs": [
        {
          "output_type": "display_data",
          "data": {
            "image/png": "[encoded data removed]",
            "text/plain": [
              "<Figure size 1008x792 with 2 Axes>"
            ]
          },
          "metadata": {
            "needs_background": "light"
          }
        }
      ]
    },
    {
      "cell_type": "code",
      "source": [
        "plt.savefig(\"CompareHybrid.pdf\")"
      ],
      "metadata": {
        "colab": {
          "base_uri": "https://localhost:8080/",
          "height": 36
        },
        "id": "YqeDk3dNc2Yz",
        "outputId": "1b95401b-d007-4ac1-d243-5b40766ba522"
      },
      "execution_count": null,
      "outputs": [
        {
          "output_type": "display_data",
          "data": {
            "text/plain": [
              "<Figure size 432x288 with 0 Axes>"
            ]
          },
          "metadata": {}
        }
      ]
    },
    {
      "cell_type": "code",
      "metadata": {
        "colab": {
          "base_uri": "https://localhost:8080/",
          "height": 370
        },
        "id": "oZvznIq7yViO",
        "outputId": "6d9f5448-f633-401c-b94f-d2b7e44f8982"
      },
      "source": [
        "from sklearn import svm\n",
        "\n",
        "clf = svm.SVC(kernel='linear', random_state=21,shrinking=True, probability=True,max_iter = 1000).fit(features, y_train)\n",
        "print('Accuracy of SVM classifier on training set: {:.2f}'\n",
        "     .format(clf.score(features, y_train)))\n",
        "print('Accuracy of SVM classifier on test set: {:.2f}'\n",
        "     .format(clf.score(test_features, y_test)))"
      ],
      "execution_count": null,
      "outputs": [
        {
          "ename": "KeyboardInterrupt",
          "evalue": "ignored",
          "output_type": "error",
          "traceback": [
            "\u001b[0;31m---------------------------------------------------------------------------\u001b[0m",
            "\u001b[0;31mKeyboardInterrupt\u001b[0m                         Traceback (most recent call last)",
            "\u001b[0;32m<ipython-input-43-ff4bf0328cd4>\u001b[0m in \u001b[0;36m<module>\u001b[0;34m()\u001b[0m\n\u001b[1;32m      1\u001b[0m \u001b[0;32mfrom\u001b[0m \u001b[0msklearn\u001b[0m \u001b[0;32mimport\u001b[0m \u001b[0msvm\u001b[0m\u001b[0;34m\u001b[0m\u001b[0;34m\u001b[0m\u001b[0m\n\u001b[1;32m      2\u001b[0m \u001b[0;34m\u001b[0m\u001b[0m\n\u001b[0;32m----> 3\u001b[0;31m \u001b[0mclf\u001b[0m \u001b[0;34m=\u001b[0m \u001b[0msvm\u001b[0m\u001b[0;34m.\u001b[0m\u001b[0mSVC\u001b[0m\u001b[0;34m(\u001b[0m\u001b[0mkernel\u001b[0m\u001b[0;34m=\u001b[0m\u001b[0;34m'linear'\u001b[0m\u001b[0;34m,\u001b[0m \u001b[0mrandom_state\u001b[0m\u001b[0;34m=\u001b[0m\u001b[0;36m21\u001b[0m\u001b[0;34m,\u001b[0m\u001b[0mshrinking\u001b[0m\u001b[0;34m=\u001b[0m\u001b[0;32mTrue\u001b[0m\u001b[0;34m,\u001b[0m \u001b[0mprobability\u001b[0m\u001b[0;34m=\u001b[0m\u001b[0;32mTrue\u001b[0m\u001b[0;34m,\u001b[0m\u001b[0mmax_iter\u001b[0m \u001b[0;34m=\u001b[0m \u001b[0;36m1000\u001b[0m\u001b[0;34m)\u001b[0m\u001b[0;34m.\u001b[0m\u001b[0mfit\u001b[0m\u001b[0;34m(\u001b[0m\u001b[0mfeatures\u001b[0m\u001b[0;34m,\u001b[0m \u001b[0my_train\u001b[0m\u001b[0;34m)\u001b[0m\u001b[0;34m\u001b[0m\u001b[0;34m\u001b[0m\u001b[0m\n\u001b[0m\u001b[1;32m      4\u001b[0m print('Accuracy of SVM classifier on training set: {:.2f}'\n\u001b[1;32m      5\u001b[0m      .format(clf.score(features, y_train)))\n",
            "\u001b[0;32m/usr/local/lib/python3.7/dist-packages/sklearn/svm/_base.py\u001b[0m in \u001b[0;36mfit\u001b[0;34m(self, X, y, sample_weight)\u001b[0m\n\u001b[1;32m    197\u001b[0m \u001b[0;34m\u001b[0m\u001b[0m\n\u001b[1;32m    198\u001b[0m         \u001b[0mseed\u001b[0m \u001b[0;34m=\u001b[0m \u001b[0mrnd\u001b[0m\u001b[0;34m.\u001b[0m\u001b[0mrandint\u001b[0m\u001b[0;34m(\u001b[0m\u001b[0mnp\u001b[0m\u001b[0;34m.\u001b[0m\u001b[0miinfo\u001b[0m\u001b[0;34m(\u001b[0m\u001b[0;34m'i'\u001b[0m\u001b[0;34m)\u001b[0m\u001b[0;34m.\u001b[0m\u001b[0mmax\u001b[0m\u001b[0;34m)\u001b[0m\u001b[0;34m\u001b[0m\u001b[0;34m\u001b[0m\u001b[0m\n\u001b[0;32m--> 199\u001b[0;31m         \u001b[0mfit\u001b[0m\u001b[0;34m(\u001b[0m\u001b[0mX\u001b[0m\u001b[0;34m,\u001b[0m \u001b[0my\u001b[0m\u001b[0;34m,\u001b[0m \u001b[0msample_weight\u001b[0m\u001b[0;34m,\u001b[0m \u001b[0msolver_type\u001b[0m\u001b[0;34m,\u001b[0m \u001b[0mkernel\u001b[0m\u001b[0;34m,\u001b[0m \u001b[0mrandom_seed\u001b[0m\u001b[0;34m=\u001b[0m\u001b[0mseed\u001b[0m\u001b[0;34m)\u001b[0m\u001b[0;34m\u001b[0m\u001b[0;34m\u001b[0m\u001b[0m\n\u001b[0m\u001b[1;32m    200\u001b[0m         \u001b[0;31m# see comment on the other call to np.iinfo in this file\u001b[0m\u001b[0;34m\u001b[0m\u001b[0;34m\u001b[0m\u001b[0;34m\u001b[0m\u001b[0m\n\u001b[1;32m    201\u001b[0m \u001b[0;34m\u001b[0m\u001b[0m\n",
            "\u001b[0;32m/usr/local/lib/python3.7/dist-packages/sklearn/svm/_base.py\u001b[0m in \u001b[0;36m_dense_fit\u001b[0;34m(self, X, y, sample_weight, solver_type, kernel, random_seed)\u001b[0m\n\u001b[1;32m    256\u001b[0m                 \u001b[0mcache_size\u001b[0m\u001b[0;34m=\u001b[0m\u001b[0mself\u001b[0m\u001b[0;34m.\u001b[0m\u001b[0mcache_size\u001b[0m\u001b[0;34m,\u001b[0m \u001b[0mcoef0\u001b[0m\u001b[0;34m=\u001b[0m\u001b[0mself\u001b[0m\u001b[0;34m.\u001b[0m\u001b[0mcoef0\u001b[0m\u001b[0;34m,\u001b[0m\u001b[0;34m\u001b[0m\u001b[0;34m\u001b[0m\u001b[0m\n\u001b[1;32m    257\u001b[0m                 \u001b[0mgamma\u001b[0m\u001b[0;34m=\u001b[0m\u001b[0mself\u001b[0m\u001b[0;34m.\u001b[0m\u001b[0m_gamma\u001b[0m\u001b[0;34m,\u001b[0m \u001b[0mepsilon\u001b[0m\u001b[0;34m=\u001b[0m\u001b[0mself\u001b[0m\u001b[0;34m.\u001b[0m\u001b[0mepsilon\u001b[0m\u001b[0;34m,\u001b[0m\u001b[0;34m\u001b[0m\u001b[0;34m\u001b[0m\u001b[0m\n\u001b[0;32m--> 258\u001b[0;31m                 max_iter=self.max_iter, random_seed=random_seed)\n\u001b[0m\u001b[1;32m    259\u001b[0m \u001b[0;34m\u001b[0m\u001b[0m\n\u001b[1;32m    260\u001b[0m         \u001b[0mself\u001b[0m\u001b[0;34m.\u001b[0m\u001b[0m_warn_from_fit_status\u001b[0m\u001b[0;34m(\u001b[0m\u001b[0;34m)\u001b[0m\u001b[0;34m\u001b[0m\u001b[0;34m\u001b[0m\u001b[0m\n",
            "\u001b[0;31mKeyboardInterrupt\u001b[0m: "
          ]
        }
      ]
    },
    {
      "cell_type": "code",
      "metadata": {
        "colab": {
          "base_uri": "https://localhost:8080/",
          "height": 396
        },
        "id": "z9L_1BdMyV2d",
        "outputId": "9ae05f4b-4714-4994-f322-54c7ce4406fb"
      },
      "source": [
        "t0 = time.time()\n",
        "from sklearn import svm\n",
        "\n",
        "clf = svm.SVC(kernel='rbf', random_state=42, gamma=100, C=10, shrinking=True, tol=1.000, max_iter = 500, probability= True).fit(features, y_train)\n",
        "print('Accuracy of SVM classifier on training set: {:.2f}'\n",
        "     .format(clf.score(features, y_train)))\n",
        "print('Accuracy of SVM classifier on test set: {:.2f}'\n",
        "     .format(clf.score(test_features, y_test)))\n",
        "y_pred = clf.predict(test_features)\n",
        "from sklearn.metrics import classification_report\n",
        "print(classification_report(y_test, y_pred, digits=4))\n",
        "tt_svm = time.time() - t0\n",
        "print(\"Time taken for SVM Classifier:{}\".format(tt_svm))\n",
        "accuracy_svm = accuracy_score(y_test, y_pred)\n",
        "#kernel='rbf', random_state=21, gamma=10, C=100, shrinking=True, tol=1.000, max_iter = 1000"
      ],
      "execution_count": null,
      "outputs": [
        {
          "output_type": "error",
          "ename": "KeyboardInterrupt",
          "evalue": "ignored",
          "traceback": [
            "\u001b[0;31m---------------------------------------------------------------------------\u001b[0m",
            "\u001b[0;31mKeyboardInterrupt\u001b[0m                         Traceback (most recent call last)",
            "\u001b[0;32m<ipython-input-33-320577bd016b>\u001b[0m in \u001b[0;36m<module>\u001b[0;34m()\u001b[0m\n\u001b[1;32m      2\u001b[0m \u001b[0;32mfrom\u001b[0m \u001b[0msklearn\u001b[0m \u001b[0;32mimport\u001b[0m \u001b[0msvm\u001b[0m\u001b[0;34m\u001b[0m\u001b[0;34m\u001b[0m\u001b[0m\n\u001b[1;32m      3\u001b[0m \u001b[0;34m\u001b[0m\u001b[0m\n\u001b[0;32m----> 4\u001b[0;31m \u001b[0mclf\u001b[0m \u001b[0;34m=\u001b[0m \u001b[0msvm\u001b[0m\u001b[0;34m.\u001b[0m\u001b[0mSVC\u001b[0m\u001b[0;34m(\u001b[0m\u001b[0mkernel\u001b[0m\u001b[0;34m=\u001b[0m\u001b[0;34m'rbf'\u001b[0m\u001b[0;34m,\u001b[0m \u001b[0mrandom_state\u001b[0m\u001b[0;34m=\u001b[0m\u001b[0;36m42\u001b[0m\u001b[0;34m,\u001b[0m \u001b[0mgamma\u001b[0m\u001b[0;34m=\u001b[0m\u001b[0;36m100\u001b[0m\u001b[0;34m,\u001b[0m \u001b[0mC\u001b[0m\u001b[0;34m=\u001b[0m\u001b[0;36m10\u001b[0m\u001b[0;34m,\u001b[0m \u001b[0mshrinking\u001b[0m\u001b[0;34m=\u001b[0m\u001b[0;32mTrue\u001b[0m\u001b[0;34m,\u001b[0m \u001b[0mtol\u001b[0m\u001b[0;34m=\u001b[0m\u001b[0;36m1.000\u001b[0m\u001b[0;34m,\u001b[0m \u001b[0mmax_iter\u001b[0m \u001b[0;34m=\u001b[0m \u001b[0;36m500\u001b[0m\u001b[0;34m,\u001b[0m \u001b[0mprobability\u001b[0m\u001b[0;34m=\u001b[0m \u001b[0;32mTrue\u001b[0m\u001b[0;34m)\u001b[0m\u001b[0;34m.\u001b[0m\u001b[0mfit\u001b[0m\u001b[0;34m(\u001b[0m\u001b[0mfeatures\u001b[0m\u001b[0;34m,\u001b[0m \u001b[0my_train\u001b[0m\u001b[0;34m)\u001b[0m\u001b[0;34m\u001b[0m\u001b[0;34m\u001b[0m\u001b[0m\n\u001b[0m\u001b[1;32m      5\u001b[0m print('Accuracy of SVM classifier on training set: {:.2f}'\n\u001b[1;32m      6\u001b[0m      .format(clf.score(features, y_train)))\n",
            "\u001b[0;32m/usr/local/lib/python3.7/dist-packages/sklearn/svm/_base.py\u001b[0m in \u001b[0;36mfit\u001b[0;34m(self, X, y, sample_weight)\u001b[0m\n\u001b[1;32m    253\u001b[0m \u001b[0;34m\u001b[0m\u001b[0m\n\u001b[1;32m    254\u001b[0m         \u001b[0mseed\u001b[0m \u001b[0;34m=\u001b[0m \u001b[0mrnd\u001b[0m\u001b[0;34m.\u001b[0m\u001b[0mrandint\u001b[0m\u001b[0;34m(\u001b[0m\u001b[0mnp\u001b[0m\u001b[0;34m.\u001b[0m\u001b[0miinfo\u001b[0m\u001b[0;34m(\u001b[0m\u001b[0;34m\"i\"\u001b[0m\u001b[0;34m)\u001b[0m\u001b[0;34m.\u001b[0m\u001b[0mmax\u001b[0m\u001b[0;34m)\u001b[0m\u001b[0;34m\u001b[0m\u001b[0;34m\u001b[0m\u001b[0m\n\u001b[0;32m--> 255\u001b[0;31m         \u001b[0mfit\u001b[0m\u001b[0;34m(\u001b[0m\u001b[0mX\u001b[0m\u001b[0;34m,\u001b[0m \u001b[0my\u001b[0m\u001b[0;34m,\u001b[0m \u001b[0msample_weight\u001b[0m\u001b[0;34m,\u001b[0m \u001b[0msolver_type\u001b[0m\u001b[0;34m,\u001b[0m \u001b[0mkernel\u001b[0m\u001b[0;34m,\u001b[0m \u001b[0mrandom_seed\u001b[0m\u001b[0;34m=\u001b[0m\u001b[0mseed\u001b[0m\u001b[0;34m)\u001b[0m\u001b[0;34m\u001b[0m\u001b[0;34m\u001b[0m\u001b[0m\n\u001b[0m\u001b[1;32m    256\u001b[0m         \u001b[0;31m# see comment on the other call to np.iinfo in this file\u001b[0m\u001b[0;34m\u001b[0m\u001b[0;34m\u001b[0m\u001b[0;34m\u001b[0m\u001b[0m\n\u001b[1;32m    257\u001b[0m \u001b[0;34m\u001b[0m\u001b[0m\n",
            "\u001b[0;32m/usr/local/lib/python3.7/dist-packages/sklearn/svm/_base.py\u001b[0m in \u001b[0;36m_dense_fit\u001b[0;34m(self, X, y, sample_weight, solver_type, kernel, random_seed)\u001b[0m\n\u001b[1;32m    331\u001b[0m             \u001b[0mepsilon\u001b[0m\u001b[0;34m=\u001b[0m\u001b[0mself\u001b[0m\u001b[0;34m.\u001b[0m\u001b[0mepsilon\u001b[0m\u001b[0;34m,\u001b[0m\u001b[0;34m\u001b[0m\u001b[0;34m\u001b[0m\u001b[0m\n\u001b[1;32m    332\u001b[0m             \u001b[0mmax_iter\u001b[0m\u001b[0;34m=\u001b[0m\u001b[0mself\u001b[0m\u001b[0;34m.\u001b[0m\u001b[0mmax_iter\u001b[0m\u001b[0;34m,\u001b[0m\u001b[0;34m\u001b[0m\u001b[0;34m\u001b[0m\u001b[0m\n\u001b[0;32m--> 333\u001b[0;31m             \u001b[0mrandom_seed\u001b[0m\u001b[0;34m=\u001b[0m\u001b[0mrandom_seed\u001b[0m\u001b[0;34m,\u001b[0m\u001b[0;34m\u001b[0m\u001b[0;34m\u001b[0m\u001b[0m\n\u001b[0m\u001b[1;32m    334\u001b[0m         )\n\u001b[1;32m    335\u001b[0m \u001b[0;34m\u001b[0m\u001b[0m\n",
            "\u001b[0;31mKeyboardInterrupt\u001b[0m: "
          ]
        }
      ]
    },
    {
      "cell_type": "code",
      "source": [
        "t0 = time.time()\n",
        "from sklearn import svm\n",
        "\n",
        "clf = svm.SVC(kernel='rbf', random_state=42, gamma=100, C=10, shrinking=True, tol=1.000, max_iter = 750, probability= True).fit(features, y_train)\n",
        "print('Accuracy of SVM classifier on training set: {:.2f}'\n",
        "     .format(clf.score(features, y_train)))\n",
        "print('Accuracy of SVM classifier on test set: {:.2f}'\n",
        "     .format(clf.score(test_features, y_test)))\n",
        "y_pred = clf.predict(test_features)\n",
        "from sklearn.metrics import classification_report\n",
        "print(classification_report(y_test, y_pred, digits=4))\n",
        "tt_svm = time.time() - t0\n",
        "print(\"Time taken for SVM Classifier:{}\".format(tt_svm))\n",
        "accuracy_svm = accuracy_score(y_test, y_pred)"
      ],
      "metadata": {
        "colab": {
          "base_uri": "https://localhost:8080/"
        },
        "id": "UPUeg4RIB01X",
        "outputId": "463d41ae-f6cf-4a01-c197-8e0426f97d7e"
      },
      "execution_count": null,
      "outputs": [
        {
          "output_type": "stream",
          "name": "stdout",
          "text": [
            "Accuracy of SVM classifier on training set: 1.00\n",
            "Accuracy of SVM classifier on test set: 0.96\n",
            "              precision    recall  f1-score   support\n",
            "\n",
            "           0     0.9572    0.9698    0.9635     92132\n",
            "           1     0.9571    0.9396    0.9483     66055\n",
            "\n",
            "    accuracy                         0.9572    158187\n",
            "   macro avg     0.9572    0.9547    0.9559    158187\n",
            "weighted avg     0.9572    0.9572    0.9571    158187\n",
            "\n",
            "Time taken for SVM Classifier:403.0845365524292\n"
          ]
        }
      ]
    },
    {
      "cell_type": "code",
      "source": [
        "cm = confusion_matrix(y_test, y_pred)\n",
        "print(cm)\n",
        "sns.heatmap(cm,\n",
        "            annot=True,\n",
        "            cmap=\"YlGnBu\",fmt=\"d\")\n",
        "plt.savefig(\"Conf_SVM.pdf\")\n",
        "plt.figure()\n",
        "\n",
        "plt.show()\n"
      ],
      "metadata": {
        "colab": {
          "base_uri": "https://localhost:8080/",
          "height": 320
        },
        "id": "l4ju4AKAXgJ-",
        "outputId": "1591b3de-b604-4cc4-bf4b-271b0c737255"
      },
      "execution_count": null,
      "outputs": [
        {
          "output_type": "stream",
          "name": "stdout",
          "text": [
            "[[89353  2779]\n",
            " [ 3992 62063]]\n"
          ]
        },
        {
          "output_type": "display_data",
          "data": {
            "image/png": "[encoded data removed]",
            "text/plain": [
              "<Figure size 432x288 with 2 Axes>"
            ]
          },
          "metadata": {
            "needs_background": "light"
          }
        },
        {
          "output_type": "display_data",
          "data": {
            "text/plain": [
              "<Figure size 432x288 with 0 Axes>"
            ]
          },
          "metadata": {}
        }
      ]
    },
    {
      "cell_type": "code",
      "source": [
        "false_positive_rate, true_positive_rate, thresholds = roc_curve(y_test, y_pred)\n",
        "roc_auc = auc(false_positive_rate, true_positive_rate)\n",
        "print(roc_auc)\n",
        "plt.figure(figsize=(10,10))\n",
        "plt.title('Receiver Operating Characteristic')\n",
        "plt.plot(false_positive_rate,true_positive_rate, color='red',label = 'AUC = %0.2f' % roc_auc)\n",
        "plt.legend(loc = 'lower right')\n",
        "plt.plot([0, 1], [0, 1],linestyle='--')\n",
        "plt.axis('tight')\n",
        "plt.ylabel('True Positive Rate')\n",
        "plt.xlabel('False Positive Rate')\n",
        "plt.savefig(\"ROC_SVM.pdf\")"
      ],
      "metadata": {
        "colab": {
          "base_uri": "https://localhost:8080/",
          "height": 639
        },
        "id": "lrNIH5g8Xgab",
        "outputId": "44c9954c-561e-4a10-ccfc-dbe0ac26baeb"
      },
      "execution_count": null,
      "outputs": [
        {
          "output_type": "stream",
          "name": "stdout",
          "text": [
            "0.9547011347730019\n"
          ]
        },
        {
          "output_type": "display_data",
          "data": {
            "image/png": "[encoded data removed]",
            "text/plain": [
              "<Figure size 720x720 with 1 Axes>"
            ]
          },
          "metadata": {
            "needs_background": "light"
          }
        }
      ]
    }
  ]
}